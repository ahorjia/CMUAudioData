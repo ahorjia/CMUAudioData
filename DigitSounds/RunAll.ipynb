{
 "cells": [
  {
   "cell_type": "code",
   "execution_count": 1,
   "metadata": {
    "collapsed": false
   },
   "outputs": [],
   "source": [
    "%matplotlib inline"
   ]
  },
  {
   "cell_type": "code",
   "execution_count": 2,
   "metadata": {
    "collapsed": true
   },
   "outputs": [],
   "source": [
    "import os\n",
    "import urllib\n",
    "import numpy as np\n",
    "from os import listdir\n",
    "from os.path import isfile, join\n",
    "from scipy import misc\n",
    "import random\n",
    "\n",
    "import tensorflow as tf\n",
    "from tensorflow.python.ops.constant_op import constant\n",
    "from tensorflow.models.rnn import rnn, rnn_cell\n",
    "import numpy as np"
   ]
  },
  {
   "cell_type": "code",
   "execution_count": 3,
   "metadata": {
    "collapsed": true
   },
   "outputs": [],
   "source": [
    "import random as rand\n",
    "\n",
    "def extract_images_labels(folder_name):\n",
    "    images = [f for f in listdir(folder_name) if isfile(join(folder_name, f)) and f.endswith('png')]\n",
    "    rand.shuffle(images)\n",
    "    lbs = np.zeros((len(images), 10))\n",
    "    counter = 0\n",
    "    for image in images:\n",
    "        vals = np.zeros(10)\n",
    "        vals[int(image[0])] = 1\n",
    "        lbs[counter,:] = vals\n",
    "        counter += 1\n",
    "    return images, lbs;"
   ]
  },
  {
   "cell_type": "code",
   "execution_count": 4,
   "metadata": {
    "collapsed": true
   },
   "outputs": [],
   "source": [
    "folder_name = \"/home/agah/TF/CSE253Project/spoken_numbers\""
   ]
  },
  {
   "cell_type": "code",
   "execution_count": 5,
   "metadata": {
    "collapsed": false
   },
   "outputs": [
    {
     "name": "stdout",
     "output_type": "stream",
     "text": [
      "352\n",
      "5_Samantha_280.wav.png\n",
      "[ 0.  0.  0.  0.  0.  1.  0.  0.  0.  0.]\n",
      "Total # of images 4684\n"
     ]
    }
   ],
   "source": [
    "img_paths, img_labels = extract_images_labels(folder_name);\n",
    "\n",
    "assert len(img_paths) == len(img_labels)\n",
    "index = random.randint(0,len(img_paths)-1)\n",
    "print index\n",
    "print img_paths[index]\n",
    "print img_labels[index]\n",
    "\n",
    "total_number_of_images = len(img_paths);\n",
    "print \"Total # of images\", total_number_of_images"
   ]
  },
  {
   "cell_type": "code",
   "execution_count": 6,
   "metadata": {
    "collapsed": false
   },
   "outputs": [],
   "source": [
    "class DataSet(object):\n",
    "    def __init__(self, images, labels):\n",
    "        assert len(images) == len(labels), (\n",
    "          \"images.shape: %s labels.shape: %s\" % (len(images), len(labels)))\n",
    "        self._num_examples = len(images)\n",
    "\n",
    "        self._images = np.asarray(images)\n",
    "        self._labels = np.asarray(labels)\n",
    "        self._epochs_completed = 0\n",
    "        self._index_in_epoch = 0\n",
    "\n",
    "    @property\n",
    "    def images(self):\n",
    "        return self._images\n",
    "    \n",
    "    @property\n",
    "    def labels(self):\n",
    "        return self._labels\n",
    "\n",
    "    @property\n",
    "    def num_examples(self):\n",
    "        return self._num_examples\n",
    "\n",
    "    @property\n",
    "    def epochs_completed(self):\n",
    "        return self._epochs_completed\n",
    "\n",
    "    def next_batch(self, batch_size, fake_data=False):\n",
    "        start = self._index_in_epoch\n",
    "        self._index_in_epoch += batch_size\n",
    "        if self._index_in_epoch > self._num_examples:\n",
    "            # Finished epoch\n",
    "            self._epochs_completed += 1\n",
    "            # Shuffle the data\n",
    "            perm = np.arange(self._num_examples)\n",
    "            np.random.shuffle(perm)\n",
    "            self._images = self._images[perm]\n",
    "            self._labels = self._labels[perm]\n",
    "            # Start next epoch\n",
    "            start = 0\n",
    "            self._index_in_epoch = batch_size\n",
    "            assert batch_size <= self._num_examples\n",
    "        end = self._index_in_epoch\n",
    "        return self._images[start:end], self._labels[start:end]"
   ]
  },
  {
   "cell_type": "code",
   "execution_count": 7,
   "metadata": {
    "collapsed": false
   },
   "outputs": [],
   "source": [
    "tr_size = int(0.95 * total_number_of_images)\n",
    "te_size = total_number_of_images - tr_size"
   ]
  },
  {
   "cell_type": "code",
   "execution_count": 8,
   "metadata": {
    "collapsed": true
   },
   "outputs": [],
   "source": [
    "def read_data_sets(train_dir):\n",
    "    class DataSets(object):\n",
    "        pass\n",
    "    \n",
    "    data_sets = DataSets()\n",
    "    images, labels = extract_images_labels(train_dir)\n",
    "\n",
    "    train_images = images[:tr_size]\n",
    "    train_labels = labels[:tr_size]\n",
    "    \n",
    "    test_images = images[tr_size:]\n",
    "    test_labels = labels[tr_size:]\n",
    "\n",
    "    print len(train_images), len(train_labels)\n",
    "    print len(test_images), len(test_labels)\n",
    "\n",
    "    data_sets.train = DataSet(train_images, train_labels)\n",
    "    data_sets.test = DataSet(test_images, test_labels)\n",
    "    \n",
    "    return data_sets"
   ]
  },
  {
   "cell_type": "code",
   "execution_count": 9,
   "metadata": {
    "collapsed": false
   },
   "outputs": [
    {
     "name": "stdout",
     "output_type": "stream",
     "text": [
      "4449 4449\n",
      "235 235\n",
      "data returned\n"
     ]
    }
   ],
   "source": [
    "data = read_data_sets(folder_name)\n",
    "\n",
    "print(\"data returned\")"
   ]
  },
  {
   "cell_type": "code",
   "execution_count": 10,
   "metadata": {
    "collapsed": true
   },
   "outputs": [],
   "source": [
    "'''\n",
    "Every image row is a sequence of pixels, so 512 sequences of 512 steps for every input\n",
    "'''\n",
    "\n",
    "learning_rate = 0.001\n",
    "training_iters = 100 * 1280\n",
    "batch_size = 128\n",
    "display_step = 10"
   ]
  },
  {
   "cell_type": "code",
   "execution_count": 11,
   "metadata": {
    "collapsed": true
   },
   "outputs": [],
   "source": [
    "# Network Parameters\n",
    "n_input = 512 # 512*512 images\n",
    "n_steps = 512 # timesteps\n",
    "n_hidden = 128 # hidden layer num of features\n",
    "n_classes = 10 # Total classes (0-9 digits)"
   ]
  },
  {
   "cell_type": "code",
   "execution_count": 12,
   "metadata": {
    "collapsed": true
   },
   "outputs": [],
   "source": [
    "# Input\n",
    "x = tf.placeholder(\"float\", [None, n_steps, n_input])\n",
    "\n",
    "# Requires 2x n_hidden length (state & cell)\n",
    "istate_fw = tf.placeholder(\"float\", [None, 2*n_hidden])\n",
    "istate_bw = tf.placeholder(\"float\", [None, 2*n_hidden])\n",
    "y = tf.placeholder(\"float\", [None, n_classes])"
   ]
  },
  {
   "cell_type": "code",
   "execution_count": 13,
   "metadata": {
    "collapsed": true
   },
   "outputs": [],
   "source": [
    "# Define weights\n",
    "weights = {\n",
    "    # Hidden layer weights => 2*n_hidden because of foward + backward cells\n",
    "    'hidden': tf.Variable(tf.random_normal([n_input, 2*n_hidden])),\n",
    "    'out': tf.Variable(tf.random_normal([2*n_hidden, n_classes]))\n",
    "}\n",
    "biases = {\n",
    "    'hidden': tf.Variable(tf.random_normal([2*n_hidden])),\n",
    "    'out': tf.Variable(tf.random_normal([n_classes]))\n",
    "}\n",
    "\n",
    "w_hidden_hist = tf.histogram_summary(\"hidden weights\", weights['hidden'])\n",
    "w_out_hist = tf.histogram_summary(\"output weights\", weights['out'])\n",
    "b_hidden_hist = tf.histogram_summary(\"hidden biases\", biases['hidden'])\n",
    "b_out_hist =  tf.histogram_summary(\"output biases\", biases['out'])"
   ]
  },
  {
   "cell_type": "code",
   "execution_count": 14,
   "metadata": {
    "collapsed": true
   },
   "outputs": [],
   "source": [
    "def BidirectionalRNN(_X, _istate_fw, _istate_bw, _weights, _biases, _batch_size, _seq_len):\n",
    "\n",
    "    _seq_len = tf.fill([_batch_size], constant(_seq_len, dtype=tf.int64))\n",
    "    _X = tf.transpose(_X, [1, 0, 2])  # permute n_steps and batch_size\n",
    "    _X = tf.reshape(_X, [-1, n_input]) # (n_steps*batch_size, n_input)\n",
    "    _X = tf.matmul(_X, _weights['hidden']) + _biases['hidden'] # Linear Activation\n",
    "\n",
    "    # Forward cellx`\n",
    "    lstm_fw_cell = rnn_cell.BasicLSTMCell(n_hidden, forget_bias=1.0)\n",
    "    # Backward cell\n",
    "    lstm_bw_cell = rnn_cell.BasicLSTMCell(n_hidden, forget_bias=1.0)\n",
    "\n",
    "    # Split data\n",
    "    _X = tf.split(0, n_steps, _X) # n_steps * (batch_size, n_hidden)\n",
    "\n",
    "    # cell output\n",
    "    outputs = rnn.bidirectional_rnn(lstm_fw_cell, lstm_bw_cell, _X,\n",
    "                                            initial_state_fw=_istate_fw,\n",
    "                                            initial_state_bw=_istate_bw,\n",
    "                                            sequence_length=_seq_len)\n",
    "\n",
    "    # Linear activation\n",
    "    return tf.matmul(outputs[-1], _weights['out']) + _biases['out']"
   ]
  },
  {
   "cell_type": "code",
   "execution_count": 15,
   "metadata": {
    "collapsed": false
   },
   "outputs": [
    {
     "name": "stdout",
     "output_type": "stream",
     "text": [
      "Calling BidirectionalRNN\n",
      "BidirectionalRNN Done\n"
     ]
    }
   ],
   "source": [
    "print(\"Calling BidirectionalRNN\")\n",
    "pred = BidirectionalRNN(x, istate_fw, istate_bw, weights, biases, batch_size, n_steps)\n",
    "print(\"BidirectionalRNN Done\")"
   ]
  },
  {
   "cell_type": "code",
   "execution_count": 16,
   "metadata": {
    "collapsed": false
   },
   "outputs": [],
   "source": [
    "# loss and optimizer\n",
    "with tf.name_scope(\"cost\") as scope:\n",
    "    cost = tf.reduce_mean(tf.nn.softmax_cross_entropy_with_logits(pred, y)) # Softmax loss\n",
    "    cost_summary = tf.scalar_summary(\"cost\", cost)\n",
    "\n",
    "with tf.name_scope(\"optimizer\") as scope:\n",
    "    optimizer = tf.train.AdamOptimizer(learning_rate=learning_rate).minimize(cost) # Adam Optimizer"
   ]
  },
  {
   "cell_type": "code",
   "execution_count": 17,
   "metadata": {
    "collapsed": false
   },
   "outputs": [],
   "source": [
    "# Evaluate model\n",
    "with tf.name_scope(\"prediction\") as scope:\n",
    "    correct_pred = tf.equal(tf.argmax(pred,1), tf.argmax(y,1))\n",
    "\n",
    "with tf.name_scope(\"accuracy\") as scope:\n",
    "    accuracy = tf.reduce_mean(tf.cast(correct_pred, tf.float32))\n",
    "    accuracy_summary = tf.scalar_summary(\"accuracy\", accuracy)\n"
   ]
  },
  {
   "cell_type": "code",
   "execution_count": 18,
   "metadata": {
    "collapsed": true
   },
   "outputs": [],
   "source": [
    "# Initializing the variables\n",
    "init = tf.initialize_all_variables()"
   ]
  },
  {
   "cell_type": "code",
   "execution_count": 19,
   "metadata": {
    "collapsed": true
   },
   "outputs": [],
   "source": [
    "def get_images(image_paths):\n",
    "    rets = np.zeros((len(image_paths), 512, 512))\n",
    "    counter = 0\n",
    "    for image in image_paths:\n",
    "        img_data = misc.imread(join(folder_name, image))\n",
    "        rets[counter][:] = img_data\n",
    "        counter += 1\n",
    "\n",
    "    images = rets.reshape(rets.shape[0], rets.shape[1] * rets.shape[2])\n",
    "    \n",
    "    # Convert from [0, 255] -> [0.0, 1.0].\n",
    "    images = images.astype(np.float32)\n",
    "    images = np.multiply(images, 1.0 / 255.0)\n",
    "    \n",
    "    return images"
   ]
  },
  {
   "cell_type": "code",
   "execution_count": 20,
   "metadata": {
    "collapsed": false
   },
   "outputs": [
    {
     "name": "stdout",
     "output_type": "stream",
     "text": [
      "Run the session...\n",
      "Iter 1280, Minibatch Loss= 4.163892, Training Accuracy= 0.23438\n",
      "Iter 2560, Minibatch Loss= 3.215368, Training Accuracy= 0.29688\n",
      "Iter 3840, Minibatch Loss= 2.344454, Training Accuracy= 0.32031\n",
      "Iter 5120, Minibatch Loss= 2.180258, Training Accuracy= 0.35156\n",
      "Iter 6400, Minibatch Loss= 1.889217, Training Accuracy= 0.39062\n",
      "Iter 7680, Minibatch Loss= 1.957108, Training Accuracy= 0.32812\n",
      "Iter 8960, Minibatch Loss= 1.776103, Training Accuracy= 0.39062\n",
      "Iter 10240, Minibatch Loss= 1.592600, Training Accuracy= 0.50000\n",
      "Iter 11520, Minibatch Loss= 1.484436, Training Accuracy= 0.46094\n",
      "Iter 12800, Minibatch Loss= 1.771542, Training Accuracy= 0.42188\n",
      "Iter 14080, Minibatch Loss= 1.333099, Training Accuracy= 0.57031\n",
      "Iter 15360, Minibatch Loss= 1.268136, Training Accuracy= 0.57031\n",
      "Iter 16640, Minibatch Loss= 1.274137, Training Accuracy= 0.57031\n",
      "Iter 17920, Minibatch Loss= 0.964024, Training Accuracy= 0.67969\n",
      "Iter 19200, Minibatch Loss= 1.152214, Training Accuracy= 0.58594\n",
      "Iter 20480, Minibatch Loss= 1.169711, Training Accuracy= 0.63281\n",
      "Iter 21760, Minibatch Loss= 1.161319, Training Accuracy= 0.55469\n",
      "Iter 23040, Minibatch Loss= 1.047488, Training Accuracy= 0.59375\n",
      "Iter 24320, Minibatch Loss= 0.839427, Training Accuracy= 0.66406\n",
      "Iter 25600, Minibatch Loss= 1.000715, Training Accuracy= 0.60156\n",
      "Iter 26880, Minibatch Loss= 0.999806, Training Accuracy= 0.57812\n",
      "Iter 28160, Minibatch Loss= 1.044408, Training Accuracy= 0.60938\n",
      "Iter 29440, Minibatch Loss= 0.881728, Training Accuracy= 0.67188\n",
      "Iter 30720, Minibatch Loss= 0.908818, Training Accuracy= 0.73438\n",
      "Iter 32000, Minibatch Loss= 1.000786, Training Accuracy= 0.65625\n",
      "Iter 33280, Minibatch Loss= 0.744035, Training Accuracy= 0.76562\n",
      "Iter 34560, Minibatch Loss= 0.720183, Training Accuracy= 0.75000\n",
      "Iter 35840, Minibatch Loss= 0.813652, Training Accuracy= 0.71875\n",
      "Iter 37120, Minibatch Loss= 1.002932, Training Accuracy= 0.65625\n",
      "Iter 38400, Minibatch Loss= 0.877679, Training Accuracy= 0.69531\n",
      "Iter 39680, Minibatch Loss= 0.716884, Training Accuracy= 0.73438\n",
      "Iter 40960, Minibatch Loss= 0.662907, Training Accuracy= 0.78906\n",
      "Iter 42240, Minibatch Loss= 0.673900, Training Accuracy= 0.77344\n",
      "Iter 43520, Minibatch Loss= 0.590424, Training Accuracy= 0.78906\n",
      "Iter 44800, Minibatch Loss= 0.653089, Training Accuracy= 0.75000\n",
      "Iter 46080, Minibatch Loss= 0.703810, Training Accuracy= 0.76562\n",
      "Iter 47360, Minibatch Loss= 0.768184, Training Accuracy= 0.78125\n",
      "Iter 48640, Minibatch Loss= 0.704083, Training Accuracy= 0.73438\n",
      "Iter 49920, Minibatch Loss= 0.525827, Training Accuracy= 0.85156\n",
      "Iter 51200, Minibatch Loss= 0.465944, Training Accuracy= 0.87500\n",
      "Iter 52480, Minibatch Loss= 0.399413, Training Accuracy= 0.88281\n",
      "Iter 53760, Minibatch Loss= 0.351110, Training Accuracy= 0.89844\n",
      "Iter 55040, Minibatch Loss= 0.475976, Training Accuracy= 0.86719\n",
      "Iter 56320, Minibatch Loss= 0.530677, Training Accuracy= 0.82031\n",
      "Iter 57600, Minibatch Loss= 0.400748, Training Accuracy= 0.88281\n",
      "Iter 58880, Minibatch Loss= 0.341050, Training Accuracy= 0.90625\n",
      "Iter 60160, Minibatch Loss= 0.383042, Training Accuracy= 0.86719\n",
      "Iter 61440, Minibatch Loss= 0.345269, Training Accuracy= 0.95312\n",
      "Iter 62720, Minibatch Loss= 0.410404, Training Accuracy= 0.88281\n",
      "Iter 64000, Minibatch Loss= 0.336641, Training Accuracy= 0.92188\n",
      "Iter 65280, Minibatch Loss= 0.402378, Training Accuracy= 0.84375\n",
      "Iter 66560, Minibatch Loss= 0.417947, Training Accuracy= 0.87500\n",
      "Iter 67840, Minibatch Loss= 0.319929, Training Accuracy= 0.91406\n",
      "Iter 69120, Minibatch Loss= 0.347300, Training Accuracy= 0.90625\n",
      "Iter 70400, Minibatch Loss= 0.377073, Training Accuracy= 0.89844\n",
      "Iter 71680, Minibatch Loss= 0.259959, Training Accuracy= 0.93750\n",
      "Iter 72960, Minibatch Loss= 0.307766, Training Accuracy= 0.91406\n",
      "Iter 74240, Minibatch Loss= 0.227598, Training Accuracy= 0.96094\n",
      "Iter 75520, Minibatch Loss= 0.307758, Training Accuracy= 0.92969\n",
      "Iter 76800, Minibatch Loss= 0.291047, Training Accuracy= 0.93750\n",
      "Iter 78080, Minibatch Loss= 0.264282, Training Accuracy= 0.96094\n",
      "Iter 79360, Minibatch Loss= 0.233761, Training Accuracy= 0.94531\n",
      "Iter 80640, Minibatch Loss= 0.250260, Training Accuracy= 0.95312\n",
      "Iter 81920, Minibatch Loss= 0.286201, Training Accuracy= 0.91406\n",
      "Iter 83200, Minibatch Loss= 0.233781, Training Accuracy= 0.96094\n",
      "Iter 84480, Minibatch Loss= 0.201510, Training Accuracy= 0.97656\n",
      "Iter 85760, Minibatch Loss= 0.223324, Training Accuracy= 0.95312\n",
      "Iter 87040, Minibatch Loss= 0.183499, Training Accuracy= 0.98438\n",
      "Iter 88320, Minibatch Loss= 0.142168, Training Accuracy= 0.97656\n",
      "Iter 89600, Minibatch Loss= 0.145657, Training Accuracy= 0.98438\n",
      "Iter 90880, Minibatch Loss= 0.199177, Training Accuracy= 0.96875\n",
      "Iter 92160, Minibatch Loss= 0.184636, Training Accuracy= 0.97656\n",
      "Iter 93440, Minibatch Loss= 0.141900, Training Accuracy= 0.96875\n",
      "Iter 94720, Minibatch Loss= 0.220086, Training Accuracy= 0.96875\n",
      "Iter 96000, Minibatch Loss= 0.121604, Training Accuracy= 0.99219\n",
      "Iter 97280, Minibatch Loss= 0.139153, Training Accuracy= 0.97656\n",
      "Iter 98560, Minibatch Loss= 0.178351, Training Accuracy= 0.97656\n",
      "Iter 99840, Minibatch Loss= 0.196630, Training Accuracy= 0.97656\n",
      "Iter 101120, Minibatch Loss= 0.109180, Training Accuracy= 0.99219\n",
      "Iter 102400, Minibatch Loss= 0.103937, Training Accuracy= 1.00000\n",
      "Iter 103680, Minibatch Loss= 0.107849, Training Accuracy= 1.00000\n",
      "Iter 104960, Minibatch Loss= 0.097273, Training Accuracy= 0.99219\n",
      "Iter 106240, Minibatch Loss= 0.112606, Training Accuracy= 0.99219\n",
      "Iter 107520, Minibatch Loss= 0.132935, Training Accuracy= 0.97656\n",
      "Iter 108800, Minibatch Loss= 0.129505, Training Accuracy= 1.00000\n",
      "Iter 110080, Minibatch Loss= 0.105561, Training Accuracy= 1.00000\n",
      "Iter 111360, Minibatch Loss= 0.097079, Training Accuracy= 0.99219\n",
      "Iter 112640, Minibatch Loss= 0.098093, Training Accuracy= 0.99219\n",
      "Iter 113920, Minibatch Loss= 0.075406, Training Accuracy= 0.99219\n",
      "Iter 115200, Minibatch Loss= 0.074431, Training Accuracy= 0.99219\n",
      "Iter 116480, Minibatch Loss= 0.071841, Training Accuracy= 0.99219\n",
      "Iter 117760, Minibatch Loss= 0.085934, Training Accuracy= 0.99219\n",
      "Iter 119040, Minibatch Loss= 0.102077, Training Accuracy= 0.99219\n",
      "Iter 120320, Minibatch Loss= 0.070649, Training Accuracy= 1.00000\n",
      "Iter 121600, Minibatch Loss= 0.060712, Training Accuracy= 1.00000\n",
      "Iter 122880, Minibatch Loss= 0.068062, Training Accuracy= 0.99219\n",
      "Iter 124160, Minibatch Loss= 0.081828, Training Accuracy= 0.99219\n",
      "Iter 125440, Minibatch Loss= 0.089824, Training Accuracy= 0.99219\n",
      "Iter 126720, Minibatch Loss= 0.075281, Training Accuracy= 1.00000\n",
      "Optimization Finished!\n",
      "Testing Accuracy: 0.59375\n",
      "Done!\n"
     ]
    }
   ],
   "source": [
    "print(\"Run the session...\")\n",
    "# Launch the graph\n",
    "accs = np.zeros(training_iters / batch_size / display_step)\n",
    "losses = np.zeros(training_iters / batch_size / display_step)\n",
    "iterations = np.zeros(training_iters / batch_size / display_step)\n",
    "testaccs = np.zeros(training_iters / batch_size / display_step)\n",
    "\n",
    "\n",
    "with tf.Session() as sess:\n",
    "    sess.run(init)\n",
    "    \n",
    "    writer = tf.train.SummaryWriter(\"/tmp/tf1\", sess.graph_def)\n",
    "    step = 1\n",
    "    # Keep training until reach max iterations\n",
    "    while step * batch_size < training_iters:\n",
    "        batch_xs_paths, batch_ys = data.train.next_batch(batch_size)\n",
    "        batch_xs = get_images(batch_xs_paths)\n",
    "        \n",
    "        # Reshape data to get 28 seq of 28 elements\n",
    "        batch_xs = batch_xs.reshape((batch_size, n_steps, n_input))\n",
    "        \n",
    "        # Fit training using batch data\n",
    "        sess.run(optimizer, feed_dict={x: batch_xs, y: batch_ys,\n",
    "                                       istate_fw: np.zeros((batch_size, 2*n_hidden)),\n",
    "                                       istate_bw: np.zeros((batch_size, 2*n_hidden))})\n",
    "        if step % display_step == 0:\n",
    "            # Calculate batch accuracy\n",
    "            acc = sess.run(accuracy, feed_dict={x: batch_xs, y: batch_ys,\n",
    "                                                istate_fw: np.zeros((batch_size, 2*n_hidden)),\n",
    "                                                istate_bw: np.zeros((batch_size, 2*n_hidden))})\n",
    "            # Calculate batch loss\n",
    "            loss = sess.run(cost, feed_dict={x: batch_xs, y: batch_ys,\n",
    "                                             istate_fw: np.zeros((batch_size, 2*n_hidden)),\n",
    "                                             istate_bw: np.zeros((batch_size, 2*n_hidden))})\n",
    "            print \"Iter \" + str(step*batch_size) + \", Minibatch Loss= \" + \"{:.6f}\".format(loss) + \\\n",
    "                  \", Training Accuracy= \" + \"{:.5f}\".format(acc)\n",
    "                \n",
    "            accs[step / display_step] = acc\n",
    "            losses[step / display_step] = loss\n",
    "            iterations[step / display_step] = step * batch_size\n",
    "\n",
    "            test_len = 128\n",
    "            test_images = get_images(data.test.images[:test_len])\n",
    "            test_data = test_images.reshape((-1, n_steps, n_input))\n",
    "            test_label = data.test.labels[:test_len]\n",
    "            testaccs_tmp = sess.run(accuracy, feed_dict={x: test_data, y: test_label,\n",
    "                                                     istate_fw: np.zeros((test_len, 2*n_hidden)),\n",
    "                                                     istate_bw: np.zeros((test_len, 2*n_hidden))}) \n",
    "            testaccs[step / display_step] = testaccs_tmp\n",
    "        step += 1\n",
    "        \n",
    "    print \"Optimization Finished!\"\n",
    "    \n",
    "    # Calculate test accuracy\n",
    "    test_len = 128\n",
    "    test_images = get_images(data.test.images[:test_len])\n",
    "    test_data = test_images.reshape((-1, n_steps, n_input))\n",
    "    test_label = data.test.labels[:test_len]\n",
    "    print \"Testing Accuracy:\", sess.run(accuracy, feed_dict={x: test_data, y: test_label,\n",
    "                                                             istate_fw: np.zeros((test_len, 2*n_hidden)),\n",
    "                                                             istate_bw: np.zeros((test_len, 2*n_hidden))})\n",
    "print(\"Done!\")"
   ]
  },
  {
   "cell_type": "code",
   "execution_count": 21,
   "metadata": {
    "collapsed": false
   },
   "outputs": [],
   "source": [
    "# %%bash\n",
    "# python /usr/local/lib/python2.7/dist-packages/tensorflow/tensorboard/backend/tensorboard.py --log=/tmp/tf1"
   ]
  },
  {
   "cell_type": "markdown",
   "metadata": {},
   "source": [
    "![title](graph.png)"
   ]
  },
  {
   "cell_type": "code",
   "execution_count": 22,
   "metadata": {
    "collapsed": false
   },
   "outputs": [
    {
     "name": "stdout",
     "output_type": "stream",
     "text": [
      "[ 0.         0.234375   0.296875   0.3203125  0.3515625  0.390625   0.328125\n",
      "  0.390625   0.5        0.4609375  0.421875   0.5703125  0.5703125\n",
      "  0.5703125  0.6796875  0.5859375  0.6328125  0.5546875  0.59375    0.6640625\n",
      "  0.6015625  0.578125   0.609375   0.671875   0.734375   0.65625    0.765625\n",
      "  0.75       0.71875    0.65625    0.6953125  0.734375   0.7890625\n",
      "  0.7734375  0.7890625  0.75       0.765625   0.78125    0.734375\n",
      "  0.8515625  0.875      0.8828125  0.8984375  0.8671875  0.8203125\n",
      "  0.8828125  0.90625    0.8671875  0.953125   0.8828125  0.921875   0.84375\n",
      "  0.875      0.9140625  0.90625    0.8984375  0.9375     0.9140625\n",
      "  0.9609375  0.9296875  0.9375     0.9609375  0.9453125  0.953125\n",
      "  0.9140625  0.9609375  0.9765625  0.953125   0.984375   0.9765625\n",
      "  0.984375   0.96875    0.9765625  0.96875    0.96875    0.9921875\n",
      "  0.9765625  0.9765625  0.9765625  0.9921875  1.         1.         0.9921875\n",
      "  0.9921875  0.9765625  1.         1.         0.9921875  0.9921875\n",
      "  0.9921875  0.9921875  0.9921875  0.9921875  0.9921875  1.         1.\n",
      "  0.9921875  0.9921875  0.9921875  1.       ]\n",
      "[ 0.          4.16389179  3.21536756  2.34445429  2.1802578   1.88921678\n",
      "  1.95710766  1.77610278  1.59259951  1.48443627  1.77154183  1.33309948\n",
      "  1.26813555  1.2741369   0.96402365  1.15221393  1.16971087  1.16131902\n",
      "  1.04748821  0.83942682  1.00071549  0.99980593  1.04440784  0.88172781\n",
      "  0.90881771  1.00078607  0.74403548  0.72018266  0.81365234  1.00293195\n",
      "  0.87767929  0.7168839   0.66290665  0.67390001  0.59042382  0.65308875\n",
      "  0.70381033  0.76818436  0.70408309  0.52582651  0.46594426  0.39941338\n",
      "  0.35110989  0.47597638  0.53067732  0.40074834  0.34104979  0.38304245\n",
      "  0.34526926  0.41040429  0.33664095  0.40237832  0.41794711  0.31992888\n",
      "  0.3472997   0.37707335  0.2599588   0.30776632  0.22759847  0.30775803\n",
      "  0.29104656  0.26428211  0.23376098  0.25026     0.28620064  0.23378101\n",
      "  0.20150951  0.22332391  0.18349947  0.14216802  0.14565693  0.19917709\n",
      "  0.18463588  0.1419      0.2200858   0.12160401  0.13915327  0.17835078\n",
      "  0.19662955  0.10918016  0.10393712  0.10784896  0.09727258  0.11260569\n",
      "  0.13293542  0.12950501  0.10556073  0.09707884  0.0980925   0.07540565\n",
      "  0.07443124  0.07184108  0.08593433  0.1020769   0.07064869  0.06071192\n",
      "  0.06806165  0.08182819  0.08982449  0.07528116]\n"
     ]
    }
   ],
   "source": [
    "print accs\n",
    "print losses"
   ]
  },
  {
   "cell_type": "code",
   "execution_count": 27,
   "metadata": {
    "collapsed": false
   },
   "outputs": [],
   "source": [
    "import pickle\n",
    "\n",
    "with open('accs_file.pickle', 'wb') as handle:\n",
    "    pickle.dump((accs, losses, iterations, testaccs), handle)\n"
   ]
  },
  {
   "cell_type": "code",
   "execution_count": 41,
   "metadata": {
    "collapsed": false
   },
   "outputs": [
    {
     "data": {
      "text/plain": [
       "[<matplotlib.lines.Line2D at 0x7f16af61bb90>]"
      ]
     },
     "execution_count": 41,
     "metadata": {},
     "output_type": "execute_result"
    },
    {
     "data": {
      "image/png": "[encoded data removed]",
      "text/plain": [
       "<matplotlib.figure.Figure at 0x7f16af6bb090>"
      ]
     },
     "metadata": {},
     "output_type": "display_data"
    }
   ],
   "source": [
    "import pickle\n",
    "\n",
    "with open('accs_file.pickle', 'rb') as handle:\n",
    "    (accs, losses, iterations, testaccs) = pickle.load(handle)\n",
    "\n",
    "import numpy as np\n",
    "import matplotlib.pyplot as plt\n",
    "\n",
    "plt.figure(figsize=(20,10))\n",
    "x = iterations\n",
    "y = accs\n",
    "plt.title(\"Training Accuracy\")\n",
    "plt.xlabel(\"Iterations\")\n",
    "plt.ylabel(\"Accuracy\")\n",
    "plt.plot(x, y)"
   ]
  },
  {
   "cell_type": "code",
   "execution_count": 42,
   "metadata": {
    "collapsed": false
   },
   "outputs": [
    {
     "data": {
      "text/plain": [
       "[<matplotlib.lines.Line2D at 0x7f16af5b6e50>]"
      ]
     },
     "execution_count": 42,
     "metadata": {},
     "output_type": "execute_result"
    },
    {
     "data": {
      "image/png": "[encoded data removed]",
      "text/plain": [
       "<matplotlib.figure.Figure at 0x7f16af6bb890>"
      ]
     },
     "metadata": {},
     "output_type": "display_data"
    }
   ],
   "source": [
    "plt.figure(figsize=(20,10))\n",
    "x = iterations\n",
    "y = losses\n",
    "plt.title(\"Loss\")\n",
    "plt.xlabel(\"Iterations\")\n",
    "plt.ylabel(\"Loss\")\n",
    "plt.plot(x, y)"
   ]
  },
  {
   "cell_type": "code",
   "execution_count": 40,
   "metadata": {
    "collapsed": false
   },
   "outputs": [
    {
     "data": {
      "text/plain": [
       "[<matplotlib.lines.Line2D at 0x7f16af6a4f90>]"
      ]
     },
     "execution_count": 40,
     "metadata": {},
     "output_type": "execute_result"
    },
    {
     "data": {
      "image/png": "[encoded data removed]",
      "text/plain": [
       "<matplotlib.figure.Figure at 0x7f16af7d7450>"
      ]
     },
     "metadata": {},
     "output_type": "display_data"
    }
   ],
   "source": [
    "plt.figure(figsize=(20,10))\n",
    "x = iterations\n",
    "y = testaccs\n",
    "plt.title(\"Test Accuracy\")\n",
    "plt.xlabel(\"Iterations\")\n",
    "plt.ylabel(\"Accuracy\")\n",
    "plt.plot(x, y)"
   ]
  },
  {
   "cell_type": "code",
   "execution_count": 43,
   "metadata": {
    "collapsed": false
   },
   "outputs": [
    {
     "name": "stdout",
     "output_type": "stream",
     "text": [
      "[ 0.         0.2265625  0.28125    0.3125     0.2890625  0.2578125\n",
      "  0.3046875  0.3359375  0.3828125  0.3046875  0.3828125  0.4375     0.375\n",
      "  0.4375     0.40625    0.40625    0.421875   0.4296875  0.421875\n",
      "  0.4453125  0.5        0.4140625  0.484375   0.453125   0.4453125  0.46875\n",
      "  0.46875    0.5        0.4453125  0.453125   0.484375   0.4375     0.453125\n",
      "  0.5        0.4765625  0.5078125  0.4921875  0.5        0.453125\n",
      "  0.5078125  0.515625   0.5390625  0.5078125  0.578125   0.5078125  0.5625\n",
      "  0.546875   0.5625     0.5        0.546875   0.5        0.53125    0.515625\n",
      "  0.546875   0.515625   0.5        0.5546875  0.5625     0.5703125\n",
      "  0.5546875  0.5625     0.5703125  0.546875   0.5625     0.6015625\n",
      "  0.5546875  0.5859375  0.5703125  0.578125   0.578125   0.5625     0.59375\n",
      "  0.5390625  0.59375    0.578125   0.59375    0.5703125  0.5859375\n",
      "  0.578125   0.5703125  0.546875   0.5859375  0.5703125  0.6015625\n",
      "  0.609375   0.5625     0.5703125  0.6015625  0.5703125  0.6015625\n",
      "  0.578125   0.578125   0.578125   0.5859375  0.59375    0.5703125\n",
      "  0.6015625  0.5625     0.5703125  0.546875 ]\n"
     ]
    }
   ],
   "source": [
    "print testaccs"
   ]
  },
  {
   "cell_type": "code",
   "execution_count": 44,
   "metadata": {
    "collapsed": false
   },
   "outputs": [
    {
     "name": "stdout",
     "output_type": "stream",
     "text": [
      "[      0.    1280.    2560.    3840.    5120.    6400.    7680.    8960.\n",
      "   10240.   11520.   12800.   14080.   15360.   16640.   17920.   19200.\n",
      "   20480.   21760.   23040.   24320.   25600.   26880.   28160.   29440.\n",
      "   30720.   32000.   33280.   34560.   35840.   37120.   38400.   39680.\n",
      "   40960.   42240.   43520.   44800.   46080.   47360.   48640.   49920.\n",
      "   51200.   52480.   53760.   55040.   56320.   57600.   58880.   60160.\n",
      "   61440.   62720.   64000.   65280.   66560.   67840.   69120.   70400.\n",
      "   71680.   72960.   74240.   75520.   76800.   78080.   79360.   80640.\n",
      "   81920.   83200.   84480.   85760.   87040.   88320.   89600.   90880.\n",
      "   92160.   93440.   94720.   96000.   97280.   98560.   99840.  101120.\n",
      "  102400.  103680.  104960.  106240.  107520.  108800.  110080.  111360.\n",
      "  112640.  113920.  115200.  116480.  117760.  119040.  120320.  121600.\n",
      "  122880.  124160.  125440.  126720.]\n"
     ]
    }
   ],
   "source": [
    "print iterations"
   ]
  },
  {
   "cell_type": "code",
   "execution_count": null,
   "metadata": {
    "collapsed": true
   },
   "outputs": [],
   "source": []
  }
 ],
 "metadata": {
  "kernelspec": {
   "display_name": "Python 2",
   "language": "python",
   "name": "python2"
  },
  "language_info": {
   "codemirror_mode": {
    "name": "ipython",
    "version": 2
   },
   "file_extension": ".py",
   "mimetype": "text/x-python",
   "name": "python",
   "nbconvert_exporter": "python",
   "pygments_lexer": "ipython2",
   "version": "2.7.6"
  }
 },
 "nbformat": 4,
 "nbformat_minor": 0
}
