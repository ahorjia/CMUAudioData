{
 "cells": [
  {
   "cell_type": "code",
   "execution_count": null,
   "metadata": {
    "collapsed": true
   },
   "outputs": [],
   "source": [
    "# Based on\n",
    "# https://github.com/aymericdamien/TensorFlow-Examples/blob/master/examples/3%20-%20Neural%20Networks/bidirectional_rnn.py"
   ]
  },
  {
   "cell_type": "code",
   "execution_count": 1,
   "metadata": {
    "collapsed": true
   },
   "outputs": [],
   "source": [
    "import os\n",
    "import urllib\n",
    "import numpy as np\n",
    "from os import listdir\n",
    "from os.path import isfile, join"
   ]
  },
  {
   "cell_type": "code",
   "execution_count": 2,
   "metadata": {
    "collapsed": false
   },
   "outputs": [],
   "source": [
    "class DataSet(object):\n",
    "    def __init__(self, images, labels):\n",
    "        assert images.shape[0] == labels.shape[0], (\n",
    "          \"images.shape: %s labels.shape: %s\" % (images.shape, labels.shape))\n",
    "        self._num_examples = images.shape[0]\n",
    "\n",
    "        images = images.reshape(images.shape[0], images.shape[1] * images.shape[2])\n",
    "\n",
    "        # Convert from [0, 255] -> [0.0, 1.0].\n",
    "        images = images.astype(np.float32)\n",
    "        images = np.multiply(images, 1.0 / 255.0)\n",
    "\n",
    "        self._images = images\n",
    "        self._labels = labels\n",
    "        self._epochs_completed = 0\n",
    "        self._index_in_epoch = 0\n",
    "\n",
    "    @property\n",
    "    def images(self):\n",
    "        return self._images\n",
    "    \n",
    "    @property\n",
    "    def labels(self):\n",
    "        return self._labels\n",
    "\n",
    "    @property\n",
    "    def num_examples(self):\n",
    "        return self._num_examples\n",
    "\n",
    "    @property\n",
    "    def epochs_completed(self):\n",
    "        return self._epochs_completed\n",
    "\n",
    "    def next_batch(self, batch_size, fake_data=False):\n",
    "        \"\"\"Return the next `batch_size` examples from this data set.\"\"\"\n",
    "        start = self._index_in_epoch\n",
    "        self._index_in_epoch += batch_size\n",
    "        if self._index_in_epoch > self._num_examples:\n",
    "            # Finished epoch\n",
    "            self._epochs_completed += 1\n",
    "            # Shuffle the data\n",
    "            perm = np.arange(self._num_examples)\n",
    "            np.random.shuffle(perm)\n",
    "            self._images = self._images[perm]\n",
    "            self._labels = self._labels[perm]\n",
    "            # Start next epoch\n",
    "            start = 0\n",
    "            self._index_in_epoch = batch_size\n",
    "            assert batch_size <= self._num_examples\n",
    "        end = self._index_in_epoch\n",
    "        return self._images[start:end], self._labels[start:end]"
   ]
  },
  {
   "cell_type": "code",
   "execution_count": 23,
   "metadata": {
    "collapsed": false
   },
   "outputs": [],
   "source": [
    "from os import listdir\n",
    "from os.path import isfile, join\n",
    "from scipy import misc\n",
    "\n",
    "def extract_images_labels(folder_name):\n",
    "    images = [f for f in listdir(folder_name) if isfile(join(folder_name, f)) and f.endswith('png')][:100]\n",
    "    rets = np.zeros((len(images), 512, 512))\n",
    "    lbs = np.zeros((len(images), 10))\n",
    "    counter = 0\n",
    "    for image in images:\n",
    "        img_data = misc.imread(join(folder_name, image))\n",
    "        rets[counter][:] = img_data\n",
    "        vals = np.zeros(10)\n",
    "        vals[int(image[0])] = 1\n",
    "        lbs[counter,:] = vals\n",
    "        counter += 1\n",
    "    return rets, lbs;"
   ]
  },
  {
   "cell_type": "code",
   "execution_count": 24,
   "metadata": {
    "collapsed": false
   },
   "outputs": [],
   "source": [
    "def read_data_sets(train_dir):\n",
    "    class DataSets(object):\n",
    "        pass\n",
    "    \n",
    "    data_sets = DataSets()\n",
    "    TRAIN_SIZE = 50\n",
    "    TEST_SIZE = 25\n",
    "    VALIDATION_SIZE = 100 - TRAIN_SIZE - TEST_SIZE\n",
    "    folder = \"/Users/ali.ghorbani/CMUAudioData/DigitSounds/spoken_numbers\"\n",
    "    images, labels = extract_images_labels(folder)\n",
    "\n",
    "    print(images.shape)\n",
    "    print(labels.shape)\n",
    "    train_images = images[:TRAIN_SIZE]\n",
    "    train_labels = labels[:TRAIN_SIZE]\n",
    "    test_images = images[TRAIN_SIZE:TRAIN_SIZE+TEST_SIZE]\n",
    "    test_labels = labels[TRAIN_SIZE:TRAIN_SIZE+TEST_SIZE]\n",
    "    validation_images = images[TRAIN_SIZE+TEST_SIZE:]\n",
    "    validation_labels = labels[TRAIN_SIZE+TEST_SIZE:]\n",
    "    data_sets.train = DataSet(train_images, train_labels)\n",
    "    data_sets.validation = DataSet(validation_images, validation_labels)\n",
    "    data_sets.test = DataSet(test_images, test_labels)\n",
    "    return data_sets"
   ]
  },
  {
   "cell_type": "code",
   "execution_count": 25,
   "metadata": {
    "collapsed": false
   },
   "outputs": [
    {
     "name": "stdout",
     "output_type": "stream",
     "text": [
      "('0', array([ 1.,  0.,  0.,  0.,  0.,  0.,  0.,  0.,  0.,  0.]))\n",
      "('0', array([ 1.,  0.,  0.,  0.,  0.,  0.,  0.,  0.,  0.,  0.]))\n",
      "('0', array([ 1.,  0.,  0.,  0.,  0.,  0.,  0.,  0.,  0.,  0.]))\n",
      "('0', array([ 1.,  0.,  0.,  0.,  0.,  0.,  0.,  0.,  0.,  0.]))\n",
      "('0', array([ 1.,  0.,  0.,  0.,  0.,  0.,  0.,  0.,  0.,  0.]))\n",
      "('0', array([ 1.,  0.,  0.,  0.,  0.,  0.,  0.,  0.,  0.,  0.]))\n",
      "('0', array([ 1.,  0.,  0.,  0.,  0.,  0.,  0.,  0.,  0.,  0.]))\n",
      "('0', array([ 1.,  0.,  0.,  0.,  0.,  0.,  0.,  0.,  0.,  0.]))\n",
      "('0', array([ 1.,  0.,  0.,  0.,  0.,  0.,  0.,  0.,  0.,  0.]))\n",
      "('0', array([ 1.,  0.,  0.,  0.,  0.,  0.,  0.,  0.,  0.,  0.]))\n",
      "('0', array([ 1.,  0.,  0.,  0.,  0.,  0.,  0.,  0.,  0.,  0.]))\n",
      "('0', array([ 1.,  0.,  0.,  0.,  0.,  0.,  0.,  0.,  0.,  0.]))\n",
      "('0', array([ 1.,  0.,  0.,  0.,  0.,  0.,  0.,  0.,  0.,  0.]))\n",
      "('0', array([ 1.,  0.,  0.,  0.,  0.,  0.,  0.,  0.,  0.,  0.]))\n",
      "('0', array([ 1.,  0.,  0.,  0.,  0.,  0.,  0.,  0.,  0.,  0.]))\n",
      "('0', array([ 1.,  0.,  0.,  0.,  0.,  0.,  0.,  0.,  0.,  0.]))\n",
      "('0', array([ 1.,  0.,  0.,  0.,  0.,  0.,  0.,  0.,  0.,  0.]))\n",
      "('0', array([ 1.,  0.,  0.,  0.,  0.,  0.,  0.,  0.,  0.,  0.]))\n",
      "('0', array([ 1.,  0.,  0.,  0.,  0.,  0.,  0.,  0.,  0.,  0.]))\n",
      "('0', array([ 1.,  0.,  0.,  0.,  0.,  0.,  0.,  0.,  0.,  0.]))\n",
      "('0', array([ 1.,  0.,  0.,  0.,  0.,  0.,  0.,  0.,  0.,  0.]))\n",
      "('0', array([ 1.,  0.,  0.,  0.,  0.,  0.,  0.,  0.,  0.,  0.]))\n",
      "('0', array([ 1.,  0.,  0.,  0.,  0.,  0.,  0.,  0.,  0.,  0.]))\n",
      "('0', array([ 1.,  0.,  0.,  0.,  0.,  0.,  0.,  0.,  0.,  0.]))\n",
      "('0', array([ 1.,  0.,  0.,  0.,  0.,  0.,  0.,  0.,  0.,  0.]))\n",
      "('0', array([ 1.,  0.,  0.,  0.,  0.,  0.,  0.,  0.,  0.,  0.]))\n",
      "('0', array([ 1.,  0.,  0.,  0.,  0.,  0.,  0.,  0.,  0.,  0.]))\n",
      "('0', array([ 1.,  0.,  0.,  0.,  0.,  0.,  0.,  0.,  0.,  0.]))\n",
      "('0', array([ 1.,  0.,  0.,  0.,  0.,  0.,  0.,  0.,  0.,  0.]))\n",
      "('0', array([ 1.,  0.,  0.,  0.,  0.,  0.,  0.,  0.,  0.,  0.]))\n",
      "('0', array([ 1.,  0.,  0.,  0.,  0.,  0.,  0.,  0.,  0.,  0.]))\n",
      "('0', array([ 1.,  0.,  0.,  0.,  0.,  0.,  0.,  0.,  0.,  0.]))\n",
      "('0', array([ 1.,  0.,  0.,  0.,  0.,  0.,  0.,  0.,  0.,  0.]))\n",
      "('0', array([ 1.,  0.,  0.,  0.,  0.,  0.,  0.,  0.,  0.,  0.]))\n",
      "('0', array([ 1.,  0.,  0.,  0.,  0.,  0.,  0.,  0.,  0.,  0.]))\n",
      "('0', array([ 1.,  0.,  0.,  0.,  0.,  0.,  0.,  0.,  0.,  0.]))\n",
      "('0', array([ 1.,  0.,  0.,  0.,  0.,  0.,  0.,  0.,  0.,  0.]))\n",
      "('0', array([ 1.,  0.,  0.,  0.,  0.,  0.,  0.,  0.,  0.,  0.]))\n",
      "('0', array([ 1.,  0.,  0.,  0.,  0.,  0.,  0.,  0.,  0.,  0.]))\n",
      "('0', array([ 1.,  0.,  0.,  0.,  0.,  0.,  0.,  0.,  0.,  0.]))\n",
      "('0', array([ 1.,  0.,  0.,  0.,  0.,  0.,  0.,  0.,  0.,  0.]))\n",
      "('0', array([ 1.,  0.,  0.,  0.,  0.,  0.,  0.,  0.,  0.,  0.]))\n",
      "('0', array([ 1.,  0.,  0.,  0.,  0.,  0.,  0.,  0.,  0.,  0.]))\n",
      "('0', array([ 1.,  0.,  0.,  0.,  0.,  0.,  0.,  0.,  0.,  0.]))\n",
      "('0', array([ 1.,  0.,  0.,  0.,  0.,  0.,  0.,  0.,  0.,  0.]))\n",
      "('0', array([ 1.,  0.,  0.,  0.,  0.,  0.,  0.,  0.,  0.,  0.]))\n",
      "('0', array([ 1.,  0.,  0.,  0.,  0.,  0.,  0.,  0.,  0.,  0.]))\n",
      "('0', array([ 1.,  0.,  0.,  0.,  0.,  0.,  0.,  0.,  0.,  0.]))\n",
      "('0', array([ 1.,  0.,  0.,  0.,  0.,  0.,  0.,  0.,  0.,  0.]))\n",
      "('0', array([ 1.,  0.,  0.,  0.,  0.,  0.,  0.,  0.,  0.,  0.]))\n",
      "('0', array([ 1.,  0.,  0.,  0.,  0.,  0.,  0.,  0.,  0.,  0.]))\n",
      "('0', array([ 1.,  0.,  0.,  0.,  0.,  0.,  0.,  0.,  0.,  0.]))\n",
      "('0', array([ 1.,  0.,  0.,  0.,  0.,  0.,  0.,  0.,  0.,  0.]))\n",
      "('0', array([ 1.,  0.,  0.,  0.,  0.,  0.,  0.,  0.,  0.,  0.]))\n",
      "('0', array([ 1.,  0.,  0.,  0.,  0.,  0.,  0.,  0.,  0.,  0.]))\n",
      "('0', array([ 1.,  0.,  0.,  0.,  0.,  0.,  0.,  0.,  0.,  0.]))\n",
      "('0', array([ 1.,  0.,  0.,  0.,  0.,  0.,  0.,  0.,  0.,  0.]))\n",
      "('0', array([ 1.,  0.,  0.,  0.,  0.,  0.,  0.,  0.,  0.,  0.]))\n",
      "('0', array([ 1.,  0.,  0.,  0.,  0.,  0.,  0.,  0.,  0.,  0.]))\n",
      "('0', array([ 1.,  0.,  0.,  0.,  0.,  0.,  0.,  0.,  0.,  0.]))\n",
      "('0', array([ 1.,  0.,  0.,  0.,  0.,  0.,  0.,  0.,  0.,  0.]))\n",
      "('0', array([ 1.,  0.,  0.,  0.,  0.,  0.,  0.,  0.,  0.,  0.]))\n",
      "('0', array([ 1.,  0.,  0.,  0.,  0.,  0.,  0.,  0.,  0.,  0.]))\n",
      "('0', array([ 1.,  0.,  0.,  0.,  0.,  0.,  0.,  0.,  0.,  0.]))\n",
      "('0', array([ 1.,  0.,  0.,  0.,  0.,  0.,  0.,  0.,  0.,  0.]))\n",
      "('0', array([ 1.,  0.,  0.,  0.,  0.,  0.,  0.,  0.,  0.,  0.]))\n",
      "('0', array([ 1.,  0.,  0.,  0.,  0.,  0.,  0.,  0.,  0.,  0.]))\n",
      "('0', array([ 1.,  0.,  0.,  0.,  0.,  0.,  0.,  0.,  0.,  0.]))\n",
      "('0', array([ 1.,  0.,  0.,  0.,  0.,  0.,  0.,  0.,  0.,  0.]))\n",
      "('0', array([ 1.,  0.,  0.,  0.,  0.,  0.,  0.,  0.,  0.,  0.]))\n",
      "('0', array([ 1.,  0.,  0.,  0.,  0.,  0.,  0.,  0.,  0.,  0.]))\n",
      "('0', array([ 1.,  0.,  0.,  0.,  0.,  0.,  0.,  0.,  0.,  0.]))\n",
      "('0', array([ 1.,  0.,  0.,  0.,  0.,  0.,  0.,  0.,  0.,  0.]))\n",
      "('0', array([ 1.,  0.,  0.,  0.,  0.,  0.,  0.,  0.,  0.,  0.]))\n",
      "('0', array([ 1.,  0.,  0.,  0.,  0.,  0.,  0.,  0.,  0.,  0.]))\n",
      "('0', array([ 1.,  0.,  0.,  0.,  0.,  0.,  0.,  0.,  0.,  0.]))\n",
      "('0', array([ 1.,  0.,  0.,  0.,  0.,  0.,  0.,  0.,  0.,  0.]))\n",
      "('0', array([ 1.,  0.,  0.,  0.,  0.,  0.,  0.,  0.,  0.,  0.]))\n",
      "('0', array([ 1.,  0.,  0.,  0.,  0.,  0.,  0.,  0.,  0.,  0.]))\n",
      "('0', array([ 1.,  0.,  0.,  0.,  0.,  0.,  0.,  0.,  0.,  0.]))\n",
      "('0', array([ 1.,  0.,  0.,  0.,  0.,  0.,  0.,  0.,  0.,  0.]))\n",
      "('0', array([ 1.,  0.,  0.,  0.,  0.,  0.,  0.,  0.,  0.,  0.]))\n",
      "('0', array([ 1.,  0.,  0.,  0.,  0.,  0.,  0.,  0.,  0.,  0.]))\n",
      "('0', array([ 1.,  0.,  0.,  0.,  0.,  0.,  0.,  0.,  0.,  0.]))\n",
      "('0', array([ 1.,  0.,  0.,  0.,  0.,  0.,  0.,  0.,  0.,  0.]))\n",
      "('0', array([ 1.,  0.,  0.,  0.,  0.,  0.,  0.,  0.,  0.,  0.]))\n",
      "('0', array([ 1.,  0.,  0.,  0.,  0.,  0.,  0.,  0.,  0.,  0.]))\n",
      "('0', array([ 1.,  0.,  0.,  0.,  0.,  0.,  0.,  0.,  0.,  0.]))\n",
      "('0', array([ 1.,  0.,  0.,  0.,  0.,  0.,  0.,  0.,  0.,  0.]))\n",
      "('0', array([ 1.,  0.,  0.,  0.,  0.,  0.,  0.,  0.,  0.,  0.]))\n",
      "('0', array([ 1.,  0.,  0.,  0.,  0.,  0.,  0.,  0.,  0.,  0.]))\n",
      "('0', array([ 1.,  0.,  0.,  0.,  0.,  0.,  0.,  0.,  0.,  0.]))\n",
      "('0', array([ 1.,  0.,  0.,  0.,  0.,  0.,  0.,  0.,  0.,  0.]))\n",
      "('0', array([ 1.,  0.,  0.,  0.,  0.,  0.,  0.,  0.,  0.,  0.]))\n",
      "('0', array([ 1.,  0.,  0.,  0.,  0.,  0.,  0.,  0.,  0.,  0.]))\n",
      "('0', array([ 1.,  0.,  0.,  0.,  0.,  0.,  0.,  0.,  0.,  0.]))\n",
      "('0', array([ 1.,  0.,  0.,  0.,  0.,  0.,  0.,  0.,  0.,  0.]))\n",
      "('0', array([ 1.,  0.,  0.,  0.,  0.,  0.,  0.,  0.,  0.,  0.]))\n",
      "('0', array([ 1.,  0.,  0.,  0.,  0.,  0.,  0.,  0.,  0.,  0.]))\n",
      "('0', array([ 1.,  0.,  0.,  0.,  0.,  0.,  0.,  0.,  0.,  0.]))\n",
      "(100, 512, 512)\n",
      "(100, 10)\n",
      "50\n",
      "25\n",
      "25\n"
     ]
    }
   ],
   "source": [
    "mnist = read_data_sets(\"/Users/ali.ghorbani/CMUAudioData/DigitSounds/tmp\")\n",
    "print(mnist.train.num_examples)\n",
    "print(mnist.validation.num_examples)\n",
    "print(mnist.test.num_examples)"
   ]
  },
  {
   "cell_type": "code",
   "execution_count": 6,
   "metadata": {
    "collapsed": false
   },
   "outputs": [
    {
     "name": "stdout",
     "output_type": "stream",
     "text": [
      "0\n",
      "1\n"
     ]
    }
   ],
   "source": [
    "for i in range(2):\n",
    "    print(i)\n",
    "    batch_xs, batch_ys = mnist.train.next_batch(1)\n",
    "#     print(batch_xs[0].shape)\n",
    "#     print(batch_xs[0])\n",
    "\n",
    "#test_data = mnist.test.images[:test_len].reshape((-1, n_steps, n_input))\n",
    "#test_label = mnist.test.labels[:test_len]"
   ]
  },
  {
   "cell_type": "code",
   "execution_count": 10,
   "metadata": {
    "collapsed": false
   },
   "outputs": [
    {
     "name": "stdout",
     "output_type": "stream",
     "text": [
      "[ 0.  0.  0.  1.  0.  0.  0.  0.  0.  0.]\n"
     ]
    }
   ],
   "source": [
    "val = np.zeros(10)\n",
    "ind = 4;\n",
    "val[ind - 1] = 1;\n",
    "print val"
   ]
  },
  {
   "cell_type": "code",
   "execution_count": null,
   "metadata": {
    "collapsed": true
   },
   "outputs": [],
   "source": []
  }
 ],
 "metadata": {
  "kernelspec": {
   "display_name": "Python 2",
   "language": "python",
   "name": "python2"
  },
  "language_info": {
   "codemirror_mode": {
    "name": "ipython",
    "version": 2
   },
   "file_extension": ".py",
   "mimetype": "text/x-python",
   "name": "python",
   "nbconvert_exporter": "python",
   "pygments_lexer": "ipython2",
   "version": "2.7.6"
  }
 },
 "nbformat": 4,
 "nbformat_minor": 0
}
