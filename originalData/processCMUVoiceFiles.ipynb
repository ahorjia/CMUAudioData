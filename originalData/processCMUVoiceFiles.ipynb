{
 "cells": [
  {
   "cell_type": "code",
   "execution_count": 35,
   "metadata": {
    "collapsed": true
   },
   "outputs": [],
   "source": [
    "%matplotlib inline"
   ]
  },
  {
   "cell_type": "code",
   "execution_count": 36,
   "metadata": {
    "collapsed": true
   },
   "outputs": [],
   "source": [
    "import os\n",
    "import os.path\n",
    "import matplotlib.pyplot as plt\n",
    "import matplotlib.image as mpimg\n",
    "from scipy.io import wavfile\n",
    "from scipy.fftpack import fft\n",
    "from pylab import *\n",
    "import wave as wv\n",
    "import numpy as np\n",
    "import random\n",
    "import ntpath"
   ]
  },
  {
   "cell_type": "code",
   "execution_count": 37,
   "metadata": {
    "collapsed": true
   },
   "outputs": [],
   "source": [
    "def read_script(transacript_file_path):\n",
    "    txt = open(transacript_file_path)\n",
    "    content = txt.read()\n",
    "    txt.close()\n",
    "    return content"
   ]
  },
  {
   "cell_type": "code",
   "execution_count": 38,
   "metadata": {
    "collapsed": true
   },
   "outputs": [],
   "source": [
    "def show_image(image_file_path):\n",
    "    img1 = mpimg.imread(image_file_path)\n",
    "    plt.imshow(img1)\n",
    "    plt.close"
   ]
  },
  {
   "cell_type": "code",
   "execution_count": 39,
   "metadata": {
    "collapsed": false
   },
   "outputs": [],
   "source": [
    "def get_files(root_dir, file_type):\n",
    "    retVal = []\n",
    "    for root, dirs, files in os.walk(root_dir):\n",
    "        for name in [ fi for fi in files if fi.endswith(file_type) ]:\n",
    "            retVal.append(os.path.join(root, name))\n",
    "            \n",
    "    return retVal"
   ]
  },
  {
   "cell_type": "code",
   "execution_count": 40,
   "metadata": {
    "collapsed": false
   },
   "outputs": [
    {
     "name": "stdout",
     "output_type": "stream",
     "text": [
      "8element 1433\n",
      "15element 1249\n",
      "rutdata 466\n",
      "total file count 3148\n",
      "transcripts count rutdata 468\n",
      "tranacripts count main 546\n",
      "total transacripts count 1014\n"
     ]
    }
   ],
   "source": [
    "files_8element = get_files('./images/8element/', '.wav')\n",
    "files_15element = get_files('./images/15element/', '.wav')\n",
    "files_rutdata = get_files('./images/rutdata/', '.wav')\n",
    "\n",
    "print \"8element\", len(files_8element)\n",
    "print \"15element\", len(files_15element)\n",
    "print \"rutdata\", len(files_rutdata)\n",
    "\n",
    "print \"total file count\", len(files_8element) + len(files_15element) + len(files_rutdata)\n",
    "\n",
    "files_transcripts_rutdata = get_files('./images/rutdata/transcripts/', '.sent')\n",
    "files_transcripts_main = get_files('./images/transcripts/', '.sent')\n",
    "\n",
    "print \"transcripts count rutdata\", len(files_transcripts_rutdata)\n",
    "print \"tranacripts count main\", len(files_transcripts_main)\n",
    "\n",
    "print \"total transacripts count\", len(files_transcripts_rutdata) + len(files_transcripts_main)\n"
   ]
  },
  {
   "cell_type": "code",
   "execution_count": 41,
   "metadata": {
    "collapsed": true
   },
   "outputs": [],
   "source": [
    "def getMetadata(filename):\n",
    "    w_read = wv.open(filename)\n",
    "    print \"# of Channels:\", w_read.getnchannels();\n",
    "    print \"Sample Width\", w_read.getsampwidth();\n",
    "    print \"Frame Rate: (# of samples per second) \", w_read.getframerate();\n",
    "    print \"# of Frames (samples):\", w_read.getnframes();\n",
    "    print \"Total time seconds:\", w_read.getnframes() * 1.0 / w_read.getframerate();\n",
    "    print \"Total time milliseconds:\", w_read.getnframes() * 1.0 / w_read.getframerate() * 1000;\n",
    "    print \"Compression Type:\", w_read.getcomptype();\n",
    "    print \"Compression Name:\", w_read.getcompname();\n",
    "    w_read.close()"
   ]
  },
  {
   "cell_type": "code",
   "execution_count": 42,
   "metadata": {
    "collapsed": false
   },
   "outputs": [
    {
     "name": "stdout",
     "output_type": "stream",
     "text": [
      "===> 8elem file: ./images/8element/mrwb/cen5-mrwb-arrA.adc.wav_2.wav\n",
      "# of Channels: 1\n",
      "Sample Width 2\n",
      "Frame Rate: (# of samples per second)  16000\n",
      "# of Frames (samples): 100609\n",
      "Total time seconds: 6.2880625\n",
      "Total time milliseconds: 6288.0625\n",
      "Compression Type: NONE\n",
      "Compression Name: not compressed\n",
      "===> 15elem file: ./images/15element/an101-mtms-sennCR1.adc.wav_0.wav\n",
      "# of Channels: 1\n",
      "Sample Width 2\n",
      "Frame Rate: (# of samples per second)  16000\n",
      "# of Frames (samples): 47626\n",
      "Total time seconds: 2.976625\n",
      "Total time milliseconds: 2976.625\n",
      "Compression Type: NONE\n",
      "Compression Name: not compressed\n"
     ]
    }
   ],
   "source": [
    "rand_8elem_file = random.choice(files_8element)\n",
    "print \"===> 8elem file:\", rand_8elem_file\n",
    "getMetadata(rand_8elem_file);\n",
    "\n",
    "rand_15elem_file = random.choice(files_15element)\n",
    "print \"===> 15elem file:\", rand_15elem_file\n",
    "getMetadata(rand_15elem_file);"
   ]
  },
  {
   "cell_type": "code",
   "execution_count": 43,
   "metadata": {
    "collapsed": true
   },
   "outputs": [],
   "source": [
    "# http://samcarcagno.altervista.org/blog/basic-sound-processing-python/\n",
    "# http://stackoverflow.com/questions/23377665/python-scipy-fft-wav-files\n",
    "def display_time_domain(file_wave):\n",
    "    sampFreq, snd = wavfile.read(file_wave);\n",
    "    print \"Sampled Per Second:\", sampFreq\n",
    "    print snd.dtype\n",
    "    snd = snd / (2.**15) # Normalize to -1 to 1\n",
    "    print \"Sound Data Shape\", snd.shape\n",
    "    if len(snd.shape) > 1:\n",
    "        (sample_points, _) = snd.shape\n",
    "        sound = snd[:,0] \n",
    "    else:\n",
    "        sample_points = len(snd)\n",
    "        sound = snd\n",
    "\n",
    "    print \"Sample Points:\", sample_points\n",
    "    print \"Total Time (ms):\", sample_points * 1.0 / sampFreq * 1000.0\n",
    "\n",
    "    timeArray = arange(0, sample_points * 1.0, 1)\n",
    "    timeArray = timeArray / sampFreq * 1000.0\n",
    "\n",
    "    plt.figure(figsize = (10,10))\n",
    "    plt.plot(timeArray, sound)\n",
    "    ylabel('Amplitude')\n",
    "    xlabel('Time (ms)')\n",
    "    plt.close()"
   ]
  },
  {
   "cell_type": "code",
   "execution_count": 44,
   "metadata": {
    "collapsed": false
   },
   "outputs": [],
   "source": [
    "import soundfile as sf\n",
    "import sounddevice as sd\n",
    "\n",
    "def play_file(file_name):\n",
    "    sig, fs = sf.read(file_name)\n",
    "    sd.play(sig, fs)"
   ]
  },
  {
   "cell_type": "code",
   "execution_count": 45,
   "metadata": {
    "collapsed": true
   },
   "outputs": [],
   "source": [
    "play_file(rand_8elem_file)"
   ]
  },
  {
   "cell_type": "code",
   "execution_count": 46,
   "metadata": {
    "collapsed": false
   },
   "outputs": [],
   "source": [
    "play_file(rand_15elem_file)"
   ]
  },
  {
   "cell_type": "code",
   "execution_count": 47,
   "metadata": {
    "collapsed": false
   },
   "outputs": [],
   "source": [
    "def processVV(file_name, show, save, log=False):\n",
    "    sampFreq, snd = wavfile.read(file_name);\n",
    "    if log:\n",
    "        print \"Sampled Per Second:\", sampFreq\n",
    "        print snd.dtype\n",
    "    snd = snd / (2.**15) # Normalize to -1 to 1\n",
    "    \n",
    "    if log:\n",
    "        print \"Sound Data Shape\", snd.shape\n",
    "        \n",
    "    if len(snd.shape) > 1:\n",
    "        (sample_points, _) = snd.shape\n",
    "        sound = snd[:,0]\n",
    "    else:\n",
    "        sample_points = len(snd)\n",
    "        sound = snd\n",
    "\n",
    "    if log:\n",
    "        print \"Sample Points:\", sample_points\n",
    "        print \"Total Time (ms):\", sample_points * 1.0 / sampFreq * 1000.0\n",
    "\n",
    "    timeArray = arange(0, sample_points * 1.0, 1)\n",
    "    timeArray = timeArray / sampFreq * 1000.0\n",
    "\n",
    "    chunkSize = 160 # 1/10 times of the sampling rate\n",
    "    chunks = [sound[i:i+chunkSize] for i in xrange(0, len(sound), chunkSize)]\n",
    "\n",
    "    nUniquePts = int(ceil((chunkSize+1)/2.0))\n",
    "    output = zeros((nUniquePts,len(chunks[:-1])))\n",
    "    i = 0;\n",
    "    for chunk in chunks[:-1]:\n",
    "        p = fft(chunk)\n",
    "        p = p[0:nUniquePts]\n",
    "        p = abs(p)\n",
    "\n",
    "        p = p / float(chunkSize)\n",
    "        p = p**2\n",
    "        if chunkSize % 2 > 0:\n",
    "            p[1:len(p)] = p[1:len(p)] * 2\n",
    "        else:\n",
    "            p[1:len(p) -1] = p[1:len(p) - 1] * 2\n",
    "\n",
    "        logp = 10*log10(p)\n",
    "        logp = logp - min(logp)\n",
    "        logp = logp / max(logp) * 255\n",
    "\n",
    "        output[:,i] = logp\n",
    "        i += 1\n",
    "\n",
    "    plt.figure(figsize = (10,10))\n",
    "    \n",
    "    if save:\n",
    "        plt.imsave(file_name + '.png', output, cmap=plt.get_cmap('gray'))\n",
    "        \n",
    "    if show:\n",
    "        plt.imshow(output, cmap=plt.get_cmap('gray'))\n",
    "    \n",
    "    plt.close()\n",
    "    \n",
    "    if log:\n",
    "        print output.shape"
   ]
  },
  {
   "cell_type": "code",
   "execution_count": 48,
   "metadata": {
    "collapsed": false
   },
   "outputs": [
    {
     "name": "stdout",
     "output_type": "stream",
     "text": [
      "Sampled Per Second: 16000\n",
      "int16\n",
      "Sound Data Shape (100609,)\n",
      "Sample Points: 100609\n",
      "Total Time (ms): 6288.0625\n"
     ]
    }
   ],
   "source": [
    "display_time_domain(rand_8elem_file)\n",
    "processVV(rand_8elem_file, True, False)"
   ]
  },
  {
   "cell_type": "code",
   "execution_count": 49,
   "metadata": {
    "collapsed": false
   },
   "outputs": [
    {
     "name": "stdout",
     "output_type": "stream",
     "text": [
      "Sampled Per Second: 16000\n",
      "int16\n",
      "Sound Data Shape (47626,)\n",
      "Sample Points: 47626\n",
      "Total Time (ms): 2976.625\n"
     ]
    }
   ],
   "source": [
    "display_time_domain(rand_15elem_file)\n",
    "processVV(rand_15elem_file, True, False)"
   ]
  },
  {
   "cell_type": "code",
   "execution_count": 51,
   "metadata": {
    "collapsed": false
   },
   "outputs": [],
   "source": [
    "def convert(input_collection):\n",
    "    for file_name in input_collection:\n",
    "        processVV(file_name, False, True)\n",
    "\n",
    "    print 'Done!'"
   ]
  },
  {
   "cell_type": "code",
   "execution_count": 53,
   "metadata": {
    "collapsed": false
   },
   "outputs": [
    {
     "name": "stdout",
     "output_type": "stream",
     "text": [
      "Done!\n",
      "CPU times: user 43.2 s, sys: 969 ms, total: 44.2 s\n",
      "Wall time: 45.4 s\n"
     ]
    },
    {
     "name": "stderr",
     "output_type": "stream",
     "text": [
      "/Users/ali.ghorbani/anaconda/lib/python2.7/site-packages/ipykernel/__main__.py:43: RuntimeWarning: divide by zero encountered in log10\n",
      "/Users/ali.ghorbani/anaconda/lib/python2.7/site-packages/ipykernel/__main__.py:44: RuntimeWarning: invalid value encountered in subtract\n"
     ]
    }
   ],
   "source": [
    "%time convert(files_8element)"
   ]
  },
  {
   "cell_type": "code",
   "execution_count": 54,
   "metadata": {
    "collapsed": false
   },
   "outputs": [
    {
     "name": "stdout",
     "output_type": "stream",
     "text": [
      "Done!\n",
      "CPU times: user 29.7 s, sys: 1 s, total: 30.7 s\n",
      "Wall time: 36.7 s\n"
     ]
    },
    {
     "name": "stderr",
     "output_type": "stream",
     "text": [
      "/Users/ali.ghorbani/anaconda/lib/python2.7/site-packages/ipykernel/__main__.py:43: RuntimeWarning: divide by zero encountered in log10\n",
      "/Users/ali.ghorbani/anaconda/lib/python2.7/site-packages/ipykernel/__main__.py:44: RuntimeWarning: invalid value encountered in subtract\n"
     ]
    }
   ],
   "source": [
    "%time convert(files_15element)"
   ]
  },
  {
   "cell_type": "code",
   "execution_count": 55,
   "metadata": {
    "collapsed": false
   },
   "outputs": [
    {
     "name": "stdout",
     "output_type": "stream",
     "text": [
      "Done!\n",
      "CPU times: user 12.2 s, sys: 369 ms, total: 12.6 s\n",
      "Wall time: 13.2 s\n"
     ]
    },
    {
     "name": "stderr",
     "output_type": "stream",
     "text": [
      "/Users/ali.ghorbani/anaconda/lib/python2.7/site-packages/ipykernel/__main__.py:43: RuntimeWarning: divide by zero encountered in log10\n",
      "/Users/ali.ghorbani/anaconda/lib/python2.7/site-packages/ipykernel/__main__.py:44: RuntimeWarning: invalid value encountered in subtract\n"
     ]
    }
   ],
   "source": [
    "%time convert(files_rutdata)"
   ]
  },
  {
   "cell_type": "code",
   "execution_count": 56,
   "metadata": {
    "collapsed": true
   },
   "outputs": [],
   "source": [
    "def match_items(wave_root_folder, img_root_folder, transacript_root_folder):\n",
    "    wave_files = get_files(wave_root_folder, '.wav')\n",
    "    img_files = get_files(img_root_folder, '.png')\n",
    "    trans_files = get_files(transacript_root_folder, '.sent')\n",
    "    \n",
    "    print \"# of wave files:\", len(wave_files)\n",
    "    print \"# of image files:\", len(img_files)\n",
    "    print \"# of transacript files:\", len(trans_files)\n",
    "\n",
    "    output = []\n",
    "    for wave_file in wave_files:\n",
    "        file_name = ntpath.basename(wave_file).split('.')[0];\n",
    "        img_file_name_list = [s for s in img_files if file_name in s]\n",
    "        transacript_file_name_list = [s for s in trans_files if file_name in s]\n",
    "        \n",
    "        image_file = ''\n",
    "        trans_file = ''\n",
    "        \n",
    "        if img_file_name_list:\n",
    "            image_file = img_file_name_list[0]\n",
    "\n",
    "        if transacript_file_name_list:\n",
    "            trans_file = transacript_file_name_list[0]\n",
    "            \n",
    "        output.append((wave_file, image_file, trans_file))\n",
    "        \n",
    "    return output"
   ]
  },
  {
   "cell_type": "code",
   "execution_count": 59,
   "metadata": {
    "collapsed": false
   },
   "outputs": [
    {
     "name": "stdout",
     "output_type": "stream",
     "text": [
      "# of wave files: 1249\n",
      "# of image files: 1249\n",
      "# of transacript files: 546\n",
      "# of wave files: 1433\n",
      "# of image files: 1749\n",
      "# of transacript files: 546\n",
      "# of wave files: 466\n",
      "# of image files: 466\n",
      "# of transacript files: 468\n"
     ]
    }
   ],
   "source": [
    "elem_15 = match_items('./images/15element/', './images/15element/', './images/transcripts/')\n",
    "elem_8 = match_items('./images/8element/', './images/8element/', './images/transcripts/')\n",
    "rut_data = match_items('./images/rutdata/', './images/rutdata/', './images/rutdata/transcripts/')"
   ]
  },
  {
   "cell_type": "code",
   "execution_count": 60,
   "metadata": {
    "collapsed": false
   },
   "outputs": [
    {
     "name": "stdout",
     "output_type": "stream",
     "text": [
      "./images/8element/mrgw/an112-mrgw-arrA.adc.wav_6.wav\n",
      "./images/8element/mrgw/an112-mrgw-arrA.adc.wav.png\n",
      "./images/transcripts/an112-mrgw-arrA.sent\n",
      "F Y Z ZERO TWO TWO TWO TWO\n",
      "\n"
     ]
    },
    {
     "data": {
      "image/png": "[encoded data removed]",
      "text/plain": [
       "<matplotlib.figure.Figure at 0x1095d0890>"
      ]
     },
     "metadata": {},
     "output_type": "display_data"
    }
   ],
   "source": [
    "wave_file, image_file, transacript_file = random.choice(elem_8)\n",
    "\n",
    "print wave_file\n",
    "print image_file\n",
    "print transacript_file\n",
    "\n",
    "play_file(wave_file)\n",
    "show_image(image_file)\n",
    "print read_script(transacript_file)"
   ]
  },
  {
   "cell_type": "code",
   "execution_count": null,
   "metadata": {
    "collapsed": true
   },
   "outputs": [],
   "source": []
  }
 ],
 "metadata": {
  "kernelspec": {
   "display_name": "Python 2",
   "language": "python",
   "name": "python2"
  },
  "language_info": {
   "codemirror_mode": {
    "name": "ipython",
    "version": 2
   },
   "file_extension": ".py",
   "mimetype": "text/x-python",
   "name": "python",
   "nbconvert_exporter": "python",
   "pygments_lexer": "ipython2",
   "version": "2.7.11"
  }
 },
 "nbformat": 4,
 "nbformat_minor": 0
}
