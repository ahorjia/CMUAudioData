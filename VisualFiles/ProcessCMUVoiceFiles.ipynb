{
 "cells": [
  {
   "cell_type": "code",
   "execution_count": 1,
   "metadata": {
    "collapsed": true
   },
   "outputs": [],
   "source": [
    "%matplotlib inline"
   ]
  },
  {
   "cell_type": "code",
   "execution_count": 2,
   "metadata": {
    "collapsed": true
   },
   "outputs": [],
   "source": [
    "import os\n",
    "import os.path\n",
    "import matplotlib.pyplot as plt\n",
    "import matplotlib.image as mpimg\n",
    "from scipy.io import wavfile\n",
    "from scipy.fftpack import fft\n",
    "from pylab import *\n",
    "import wave as wv\n",
    "import numpy as np\n",
    "import random\n",
    "import ntpath"
   ]
  },
  {
   "cell_type": "code",
   "execution_count": 3,
   "metadata": {
    "collapsed": true
   },
   "outputs": [],
   "source": [
    "def read_script(transacript_file_path):\n",
    "    txt = open(transacript_file_path)\n",
    "    content = txt.read()\n",
    "    txt.close()\n",
    "    return content"
   ]
  },
  {
   "cell_type": "code",
   "execution_count": 4,
   "metadata": {
    "collapsed": true
   },
   "outputs": [],
   "source": [
    "def show_image(image_file_path):\n",
    "    img1 = mpimg.imread(image_file_path)\n",
    "    plt.imshow(img1)\n",
    "    plt.close"
   ]
  },
  {
   "cell_type": "code",
   "execution_count": 5,
   "metadata": {
    "collapsed": false
   },
   "outputs": [],
   "source": [
    "def get_files(root_dir, file_type):\n",
    "    retVal = []\n",
    "    for root, dirs, files in os.walk(root_dir):\n",
    "        for name in [ fi for fi in files if fi.endswith(file_type) ]:\n",
    "            retVal.append(os.path.join(root, name))\n",
    "            \n",
    "    return retVal"
   ]
  },
  {
   "cell_type": "code",
   "execution_count": 6,
   "metadata": {
    "collapsed": false
   },
   "outputs": [
    {
     "name": "stdout",
     "output_type": "stream",
     "text": [
      "8element 392\n",
      "15element 157\n",
      "rutdata 466\n",
      "total file count 1015\n",
      "transcripts count rutdata 468\n",
      "tranacripts count main 546\n",
      "total transacripts count 1014\n"
     ]
    }
   ],
   "source": [
    "files_8element = get_files('../multimic_converted/8element/', '.wav')\n",
    "files_15element = get_files('../multimic_converted/15element/', '.wav')\n",
    "files_rutdata = get_files('../multimic_converted/rutdata/', '.wav')\n",
    "\n",
    "print \"8element\", len(files_8element)\n",
    "print \"15element\", len(files_15element)\n",
    "print \"rutdata\", len(files_rutdata)\n",
    "\n",
    "print \"total file count\", len(files_8element) + len(files_15element) + len(files_rutdata)\n",
    "\n",
    "files_transcripts_rutdata = get_files('../multimic_converted/rutdata/transcripts/', '.sent')\n",
    "files_transcripts_main = get_files('../multimic_converted/transcripts/', '.sent')\n",
    "\n",
    "print \"transcripts count rutdata\", len(files_transcripts_rutdata)\n",
    "print \"tranacripts count main\", len(files_transcripts_main)\n",
    "\n",
    "print \"total transacripts count\", len(files_transcripts_rutdata) + len(files_transcripts_main)\n"
   ]
  },
  {
   "cell_type": "code",
   "execution_count": 7,
   "metadata": {
    "collapsed": true
   },
   "outputs": [],
   "source": [
    "def getMetadata(filename):\n",
    "    w_read = wv.open(filename)\n",
    "    print \"# of Channels:\", w_read.getnchannels();\n",
    "    print \"Sample Width\", w_read.getsampwidth();\n",
    "    print \"Frame Rate: (# of samples per second) \", w_read.getframerate();\n",
    "    print \"# of Frames (samples):\", w_read.getnframes();\n",
    "    print \"Total time seconds:\", w_read.getnframes() * 1.0 / w_read.getframerate();\n",
    "    print \"Total time milliseconds:\", w_read.getnframes() * 1.0 / w_read.getframerate() * 1000;\n",
    "    print \"Compression Type:\", w_read.getcomptype();\n",
    "    print \"Compression Name:\", w_read.getcompname();\n",
    "    w_read.close()"
   ]
  },
  {
   "cell_type": "code",
   "execution_count": 8,
   "metadata": {
    "collapsed": false
   },
   "outputs": [
    {
     "name": "stdout",
     "output_type": "stream",
     "text": [
      "===> 8elem file: ../multimic_converted/8element/mtms/cen5-mtms-pzmS.adc.wav\n",
      "# of Channels: 1\n",
      "Sample Width 2\n",
      "Frame Rate: (# of samples per second)  16000\n",
      "# of Frames (samples): 64005\n",
      "Total time seconds: 4.0003125\n",
      "Total time milliseconds: 4000.3125\n",
      "Compression Type: NONE\n",
      "Compression Name: not compressed\n",
      "===> 15elem file: ../multimic_converted/15element/an105-mtms-arrC1A.adc_.wav\n",
      "# of Channels: 15\n",
      "Sample Width 2\n",
      "Frame Rate: (# of samples per second)  16000\n",
      "# of Frames (samples): 33280\n",
      "Total time seconds: 2.08\n",
      "Total time milliseconds: 2080.0\n",
      "Compression Type: NONE\n",
      "Compression Name: not compressed\n"
     ]
    }
   ],
   "source": [
    "rand_8elem_file = random.choice(files_8element)\n",
    "print \"===> 8elem file:\", rand_8elem_file\n",
    "getMetadata(rand_8elem_file);\n",
    "\n",
    "rand_15elem_file = random.choice(files_15element)\n",
    "print \"===> 15elem file:\", rand_15elem_file\n",
    "getMetadata(rand_15elem_file);"
   ]
  },
  {
   "cell_type": "code",
   "execution_count": 9,
   "metadata": {
    "collapsed": true
   },
   "outputs": [],
   "source": [
    "# http://samcarcagno.altervista.org/blog/basic-sound-processing-python/\n",
    "# http://stackoverflow.com/questions/23377665/python-scipy-fft-wav-files\n",
    "def display_time_domain(file_wave):\n",
    "    sampFreq, snd = wavfile.read(file_wave);\n",
    "    print \"Sampled Per Second:\", sampFreq\n",
    "    print snd.dtype\n",
    "    snd = snd / (2.**15) # Normalize to -1 to 1\n",
    "    print \"Sound Data Shape\", snd.shape\n",
    "    if len(snd.shape) > 1:\n",
    "        (sample_points, _) = snd.shape\n",
    "        sound = snd[:,0] \n",
    "    else:\n",
    "        sample_points = len(snd)\n",
    "        sound = snd\n",
    "\n",
    "    print \"Sample Points:\", sample_points\n",
    "    print \"Total Time (ms):\", sample_points * 1.0 / sampFreq * 1000.0\n",
    "\n",
    "    timeArray = arange(0, sample_points * 1.0, 1)\n",
    "    timeArray = timeArray / sampFreq * 1000.0\n",
    "\n",
    "    plt.figure(figsize = (10,10))\n",
    "    plt.plot(timeArray, sound)\n",
    "    ylabel('Amplitude')\n",
    "    xlabel('Time (ms)')\n",
    "    plt.close()"
   ]
  },
  {
   "cell_type": "code",
   "execution_count": 10,
   "metadata": {
    "collapsed": false
   },
   "outputs": [],
   "source": [
    "import soundfile as sf\n",
    "import sounddevice as sd\n",
    "\n",
    "def play_file(file_name):\n",
    "    sig, fs = sf.read(file_name)\n",
    "    sd.play(sig, fs)"
   ]
  },
  {
   "cell_type": "code",
   "execution_count": 11,
   "metadata": {
    "collapsed": true
   },
   "outputs": [],
   "source": [
    "play_file(rand_8elem_file)"
   ]
  },
  {
   "cell_type": "code",
   "execution_count": 12,
   "metadata": {
    "collapsed": false
   },
   "outputs": [
    {
     "ename": "PortAudioError",
     "evalue": "Error opening OutputStream: Invalid number of channels",
     "output_type": "error",
     "traceback": [
      "\u001b[0;31m---------------------------------------------------------------------------\u001b[0m",
      "\u001b[0;31mPortAudioError\u001b[0m                            Traceback (most recent call last)",
      "\u001b[0;32m<ipython-input-12-cd56b47d8fe2>\u001b[0m in \u001b[0;36m<module>\u001b[0;34m()\u001b[0m\n\u001b[0;32m----> 1\u001b[0;31m \u001b[0mplay_file\u001b[0m\u001b[0;34m(\u001b[0m\u001b[0mrand_15elem_file\u001b[0m\u001b[0;34m)\u001b[0m\u001b[0;34m\u001b[0m\u001b[0m\n\u001b[0m",
      "\u001b[0;32m<ipython-input-10-a979f69833f4>\u001b[0m in \u001b[0;36mplay_file\u001b[0;34m(file_name)\u001b[0m\n\u001b[1;32m      4\u001b[0m \u001b[0;32mdef\u001b[0m \u001b[0mplay_file\u001b[0m\u001b[0;34m(\u001b[0m\u001b[0mfile_name\u001b[0m\u001b[0;34m)\u001b[0m\u001b[0;34m:\u001b[0m\u001b[0;34m\u001b[0m\u001b[0m\n\u001b[1;32m      5\u001b[0m     \u001b[0msig\u001b[0m\u001b[0;34m,\u001b[0m \u001b[0mfs\u001b[0m \u001b[0;34m=\u001b[0m \u001b[0msf\u001b[0m\u001b[0;34m.\u001b[0m\u001b[0mread\u001b[0m\u001b[0;34m(\u001b[0m\u001b[0mfile_name\u001b[0m\u001b[0;34m)\u001b[0m\u001b[0;34m\u001b[0m\u001b[0m\n\u001b[0;32m----> 6\u001b[0;31m     \u001b[0msd\u001b[0m\u001b[0;34m.\u001b[0m\u001b[0mplay\u001b[0m\u001b[0;34m(\u001b[0m\u001b[0msig\u001b[0m\u001b[0;34m,\u001b[0m \u001b[0mfs\u001b[0m\u001b[0;34m)\u001b[0m\u001b[0;34m\u001b[0m\u001b[0m\n\u001b[0m",
      "\u001b[0;32m/Users/ali.ghorbani/anaconda/lib/python2.7/site-packages/sounddevice.pyc\u001b[0m in \u001b[0;36mplay\u001b[0;34m(data, samplerate, mapping, blocking, **kwargs)\u001b[0m\n\u001b[1;32m    301\u001b[0m                      \u001b[0mctx\u001b[0m\u001b[0;34m.\u001b[0m\u001b[0moutput_dtype\u001b[0m\u001b[0;34m,\u001b[0m \u001b[0mcallback\u001b[0m\u001b[0;34m,\u001b[0m \u001b[0mblocking\u001b[0m\u001b[0;34m,\u001b[0m\u001b[0;34m\u001b[0m\u001b[0m\n\u001b[1;32m    302\u001b[0m                      \u001b[0mprime_output_buffers_using_stream_callback\u001b[0m\u001b[0;34m=\u001b[0m\u001b[0mFalse\u001b[0m\u001b[0;34m,\u001b[0m\u001b[0;34m\u001b[0m\u001b[0m\n\u001b[0;32m--> 303\u001b[0;31m                      **kwargs)\n\u001b[0m\u001b[1;32m    304\u001b[0m \u001b[0;34m\u001b[0m\u001b[0m\n\u001b[1;32m    305\u001b[0m \u001b[0;34m\u001b[0m\u001b[0m\n",
      "\u001b[0;32m/Users/ali.ghorbani/anaconda/lib/python2.7/site-packages/sounddevice.pyc\u001b[0m in \u001b[0;36mstart_stream\u001b[0;34m(self, StreamClass, samplerate, channels, dtype, callback, blocking, **kwargs)\u001b[0m\n\u001b[1;32m   2265\u001b[0m                                   \u001b[0mcallback\u001b[0m\u001b[0;34m=\u001b[0m\u001b[0mcallback\u001b[0m\u001b[0;34m,\u001b[0m\u001b[0;34m\u001b[0m\u001b[0m\n\u001b[1;32m   2266\u001b[0m                                   \u001b[0mfinished_callback\u001b[0m\u001b[0;34m=\u001b[0m\u001b[0mself\u001b[0m\u001b[0;34m.\u001b[0m\u001b[0mfinished_callback\u001b[0m\u001b[0;34m,\u001b[0m\u001b[0;34m\u001b[0m\u001b[0m\n\u001b[0;32m-> 2267\u001b[0;31m                                   **kwargs)\n\u001b[0m\u001b[1;32m   2268\u001b[0m         \u001b[0mself\u001b[0m\u001b[0;34m.\u001b[0m\u001b[0mstream\u001b[0m\u001b[0;34m.\u001b[0m\u001b[0mstart\u001b[0m\u001b[0;34m(\u001b[0m\u001b[0;34m)\u001b[0m\u001b[0;34m\u001b[0m\u001b[0m\n\u001b[1;32m   2269\u001b[0m         \u001b[0;32mglobal\u001b[0m \u001b[0m_last_callback\u001b[0m\u001b[0;34m\u001b[0m\u001b[0m\n",
      "\u001b[0;32m/Users/ali.ghorbani/anaconda/lib/python2.7/site-packages/sounddevice.pyc\u001b[0m in \u001b[0;36m__init__\u001b[0;34m(self, samplerate, blocksize, device, channels, dtype, latency, callback, finished_callback, clip_off, dither_off, never_drop_input, prime_output_buffers_using_stream_callback)\u001b[0m\n\u001b[1;32m   1447\u001b[0m             \u001b[0mlatency\u001b[0m\u001b[0;34m,\u001b[0m \u001b[0mcallback\u001b[0m \u001b[0;32mand\u001b[0m \u001b[0mcallback_wrapper\u001b[0m\u001b[0;34m,\u001b[0m \u001b[0mfinished_callback\u001b[0m\u001b[0;34m,\u001b[0m\u001b[0;34m\u001b[0m\u001b[0m\n\u001b[1;32m   1448\u001b[0m             \u001b[0mclip_off\u001b[0m\u001b[0;34m,\u001b[0m \u001b[0mdither_off\u001b[0m\u001b[0;34m,\u001b[0m \u001b[0mnever_drop_input\u001b[0m\u001b[0;34m,\u001b[0m\u001b[0;34m\u001b[0m\u001b[0m\n\u001b[0;32m-> 1449\u001b[0;31m             prime_output_buffers_using_stream_callback)\n\u001b[0m\u001b[1;32m   1450\u001b[0m \u001b[0;34m\u001b[0m\u001b[0m\n\u001b[1;32m   1451\u001b[0m     \u001b[0;32mdef\u001b[0m \u001b[0mwrite\u001b[0m\u001b[0;34m(\u001b[0m\u001b[0mself\u001b[0m\u001b[0;34m,\u001b[0m \u001b[0mdata\u001b[0m\u001b[0;34m)\u001b[0m\u001b[0;34m:\u001b[0m\u001b[0;34m\u001b[0m\u001b[0m\n",
      "\u001b[0;32m/Users/ali.ghorbani/anaconda/lib/python2.7/site-packages/sounddevice.pyc\u001b[0m in \u001b[0;36m__init__\u001b[0;34m(self, kind, samplerate, blocksize, device, channels, dtype, latency, callback_wrapper, finished_callback, clip_off, dither_off, never_drop_input, prime_output_buffers_using_stream_callback)\u001b[0m\n\u001b[1;32m    813\u001b[0m                                   \u001b[0msamplerate\u001b[0m\u001b[0;34m,\u001b[0m \u001b[0mblocksize\u001b[0m\u001b[0;34m,\u001b[0m \u001b[0mstream_flags\u001b[0m\u001b[0;34m,\u001b[0m\u001b[0;34m\u001b[0m\u001b[0m\n\u001b[1;32m    814\u001b[0m                                   self._callback, _ffi.NULL),\n\u001b[0;32m--> 815\u001b[0;31m                \"Error opening {0}\".format(self.__class__.__name__))\n\u001b[0m\u001b[1;32m    816\u001b[0m \u001b[0;34m\u001b[0m\u001b[0m\n\u001b[1;32m    817\u001b[0m         \u001b[0;31m# dereference PaStream** --> PaStream*\u001b[0m\u001b[0;34m\u001b[0m\u001b[0;34m\u001b[0m\u001b[0m\n",
      "\u001b[0;32m/Users/ali.ghorbani/anaconda/lib/python2.7/site-packages/sounddevice.pyc\u001b[0m in \u001b[0;36m_check\u001b[0;34m(err, msg)\u001b[0m\n\u001b[1;32m   2400\u001b[0m         \u001b[0;32melse\u001b[0m\u001b[0;34m:\u001b[0m\u001b[0;34m\u001b[0m\u001b[0m\n\u001b[1;32m   2401\u001b[0m             \u001b[0mmsg\u001b[0m \u001b[0;34m+=\u001b[0m \u001b[0m_ffi\u001b[0m\u001b[0;34m.\u001b[0m\u001b[0mstring\u001b[0m\u001b[0;34m(\u001b[0m\u001b[0m_lib\u001b[0m\u001b[0;34m.\u001b[0m\u001b[0mPa_GetErrorText\u001b[0m\u001b[0;34m(\u001b[0m\u001b[0merr\u001b[0m\u001b[0;34m)\u001b[0m\u001b[0;34m)\u001b[0m\u001b[0;34m.\u001b[0m\u001b[0mdecode\u001b[0m\u001b[0;34m(\u001b[0m\u001b[0;34m)\u001b[0m\u001b[0;34m\u001b[0m\u001b[0m\n\u001b[0;32m-> 2402\u001b[0;31m         \u001b[0;32mraise\u001b[0m \u001b[0mPortAudioError\u001b[0m\u001b[0;34m(\u001b[0m\u001b[0mmsg\u001b[0m\u001b[0;34m)\u001b[0m\u001b[0;34m\u001b[0m\u001b[0m\n\u001b[0m\u001b[1;32m   2403\u001b[0m     \u001b[0;32mreturn\u001b[0m \u001b[0merr\u001b[0m\u001b[0;34m\u001b[0m\u001b[0m\n\u001b[1;32m   2404\u001b[0m \u001b[0;34m\u001b[0m\u001b[0m\n",
      "\u001b[0;31mPortAudioError\u001b[0m: Error opening OutputStream: Invalid number of channels"
     ]
    }
   ],
   "source": [
    "play_file(rand_15elem_file)"
   ]
  },
  {
   "cell_type": "code",
   "execution_count": 13,
   "metadata": {
    "collapsed": false
   },
   "outputs": [],
   "source": [
    "def processVV(file_name, show, save, log=False):\n",
    "    sampFreq, snd = wavfile.read(file_name);\n",
    "    if log:\n",
    "        print \"Sampled Per Second:\", sampFreq\n",
    "        print snd.dtype\n",
    "    snd = snd / (2.**15) # Normalize to -1 to 1\n",
    "    \n",
    "    if log:\n",
    "        print \"Sound Data Shape\", snd.shape\n",
    "        \n",
    "    if len(snd.shape) > 1:\n",
    "        (sample_points, _) = snd.shape\n",
    "        sound = snd[:,0]\n",
    "    else:\n",
    "        sample_points = len(snd)\n",
    "        sound = snd\n",
    "\n",
    "    if log:\n",
    "        print \"Sample Points:\", sample_points\n",
    "        print \"Total Time (ms):\", sample_points * 1.0 / sampFreq * 1000.0\n",
    "\n",
    "    timeArray = arange(0, sample_points * 1.0, 1)\n",
    "    timeArray = timeArray / sampFreq * 1000.0\n",
    "\n",
    "    chunkSize = 160 # 1/10 times of the sampling rate\n",
    "    chunks = [sound[i:i+chunkSize] for i in xrange(0, len(sound), chunkSize)]\n",
    "\n",
    "    nUniquePts = int(ceil((chunkSize+1)/2.0))\n",
    "    output = zeros((nUniquePts,len(chunks[:-1])))\n",
    "    i = 0;\n",
    "    for chunk in chunks[:-1]:\n",
    "        p = fft(chunk)\n",
    "        p = p[0:nUniquePts]\n",
    "        p = abs(p)\n",
    "\n",
    "        p = p / float(chunkSize)\n",
    "        p = p**2\n",
    "        if chunkSize % 2 > 0:\n",
    "            p[1:len(p)] = p[1:len(p)] * 2\n",
    "        else:\n",
    "            p[1:len(p) -1] = p[1:len(p) - 1] * 2\n",
    "\n",
    "        logp = 10*log10(p)\n",
    "        logp = logp - min(logp)\n",
    "        logp = logp / max(logp) * 255\n",
    "\n",
    "        output[:,i] = logp\n",
    "        i += 1\n",
    "\n",
    "    plt.figure(figsize = (10,10))\n",
    "    \n",
    "    if save:\n",
    "        plt.imsave(file_name + '.png', output, cmap=plt.get_cmap('gray'))\n",
    "        \n",
    "    if show:\n",
    "        plt.imshow(output, cmap=plt.get_cmap('gray'))\n",
    "    \n",
    "    plt.close()\n",
    "    \n",
    "    if log:\n",
    "        print output.shape"
   ]
  },
  {
   "cell_type": "code",
   "execution_count": 14,
   "metadata": {
    "collapsed": false
   },
   "outputs": [
    {
     "name": "stdout",
     "output_type": "stream",
     "text": [
      "Sampled Per Second: 16000\n",
      "int16\n",
      "Sound Data Shape (64005,)\n",
      "Sample Points: 64005\n",
      "Total Time (ms): 4000.3125\n"
     ]
    }
   ],
   "source": [
    "display_time_domain(rand_8elem_file)\n",
    "processVV(rand_8elem_file, True, False)"
   ]
  },
  {
   "cell_type": "code",
   "execution_count": 15,
   "metadata": {
    "collapsed": false
   },
   "outputs": [
    {
     "name": "stdout",
     "output_type": "stream",
     "text": [
      "Sampled Per Second: 16000\n",
      "int16\n",
      "Sound Data Shape (33280, 15)\n",
      "Sample Points: 33280\n",
      "Total Time (ms): 2080.0\n"
     ]
    }
   ],
   "source": [
    "display_time_domain(rand_15elem_file)\n",
    "processVV(rand_15elem_file, True, False)"
   ]
  },
  {
   "cell_type": "code",
   "execution_count": 16,
   "metadata": {
    "collapsed": false
   },
   "outputs": [],
   "source": [
    "def convert(input_collection):\n",
    "    for file_name in input_collection:\n",
    "        processVV(file_name, False, True)\n",
    "\n",
    "    print 'Done!'"
   ]
  },
  {
   "cell_type": "code",
   "execution_count": null,
   "metadata": {
    "collapsed": false
   },
   "outputs": [],
   "source": [
    "convert(files_8element)"
   ]
  },
  {
   "cell_type": "code",
   "execution_count": null,
   "metadata": {
    "collapsed": false
   },
   "outputs": [],
   "source": [
    "convert(files_15element)"
   ]
  },
  {
   "cell_type": "code",
   "execution_count": null,
   "metadata": {
    "collapsed": false
   },
   "outputs": [],
   "source": [
    "convert(files_rutdata)"
   ]
  },
  {
   "cell_type": "code",
   "execution_count": 17,
   "metadata": {
    "collapsed": true
   },
   "outputs": [],
   "source": [
    "def match_items(wave_root_folder, img_root_folder, transacript_root_folder):\n",
    "    wave_files = get_files(wave_root_folder, '.wav')\n",
    "    img_files = get_files(img_root_folder, '.png')\n",
    "    trans_files = get_files(transacript_root_folder, '.sent')\n",
    "    \n",
    "    print \"# of wave files:\", len(wave_files)\n",
    "    print \"# of image files:\", len(img_files)\n",
    "    print \"# of transacript files:\", len(trans_files)\n",
    "\n",
    "    output = []\n",
    "    for wave_file in wave_files:\n",
    "        file_name = ntpath.basename(wave_file).split('.')[0];\n",
    "        img_file_name_list = [s for s in img_files if file_name in s]\n",
    "        transacript_file_name_list = [s for s in trans_files if file_name in s]\n",
    "        \n",
    "        image_file = ''\n",
    "        trans_file = ''\n",
    "        \n",
    "        if img_file_name_list:\n",
    "            image_file = img_file_name_list[0]\n",
    "\n",
    "        if transacript_file_name_list:\n",
    "            trans_file = transacript_file_name_list[0]\n",
    "            \n",
    "        output.append((wave_file, image_file, trans_file))\n",
    "        \n",
    "    return output"
   ]
  },
  {
   "cell_type": "code",
   "execution_count": 18,
   "metadata": {
    "collapsed": false
   },
   "outputs": [
    {
     "name": "stdout",
     "output_type": "stream",
     "text": [
      "# of wave files: 157\n",
      "# of image files: 157\n",
      "# of transacript files: 546\n",
      "# of wave files: 392\n",
      "# of image files: 392\n",
      "# of transacript files: 546\n",
      "# of wave files: 466\n",
      "# of image files: 466\n",
      "# of transacript files: 468\n"
     ]
    }
   ],
   "source": [
    "elem_15 = match_items('../multimic_converted/15element/', './15element/', './transcripts/')\n",
    "elem_8 = match_items('../multimic_converted/8element/', './8element/', './transcripts/')\n",
    "rut_data = match_items('../multimic_converted/rutdata/', './rutdata/', './rutdata/transcripts/')"
   ]
  },
  {
   "cell_type": "code",
   "execution_count": 20,
   "metadata": {
    "collapsed": false
   },
   "outputs": [
    {
     "name": "stdout",
     "output_type": "stream",
     "text": [
      "../multimic_converted/8element/mejs/an149-mejs-senn.adc.wav\n",
      "./8element/mejs/an149-mejs-senn.adc.wav.png\n",
      "./transcripts/an149-mejs-senn.sent\n",
      "ENTER NINE EIGHTY NINE\n",
      "\n"
     ]
    },
    {
     "data": {
      "image/png": "[encoded data removed]",
      "text/plain": [
       "<matplotlib.figure.Figure at 0x10aeecc90>"
      ]
     },
     "metadata": {},
     "output_type": "display_data"
    }
   ],
   "source": [
    "wave_file, image_file, transacript_file = random.choice(elem_8)\n",
    "\n",
    "print wave_file\n",
    "print image_file\n",
    "print transacript_file\n",
    "\n",
    "play_file(wave_file)\n",
    "show_image(image_file)\n",
    "print read_script(transacript_file)"
   ]
  },
  {
   "cell_type": "code",
   "execution_count": null,
   "metadata": {
    "collapsed": true
   },
   "outputs": [],
   "source": []
  }
 ],
 "metadata": {
  "kernelspec": {
   "display_name": "Python 2",
   "language": "python",
   "name": "python2"
  },
  "language_info": {
   "codemirror_mode": {
    "name": "ipython",
    "version": 2
   },
   "file_extension": ".py",
   "mimetype": "text/x-python",
   "name": "python",
   "nbconvert_exporter": "python",
   "pygments_lexer": "ipython2",
   "version": "2.7.11"
  }
 },
 "nbformat": 4,
 "nbformat_minor": 0
}
