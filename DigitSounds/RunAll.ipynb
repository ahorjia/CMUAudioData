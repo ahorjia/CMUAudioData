{
 "cells": [
  {
   "cell_type": "code",
   "execution_count": 1,
   "metadata": {
    "collapsed": true
   },
   "outputs": [],
   "source": [
    "import os\n",
    "import urllib\n",
    "import numpy as np\n",
    "from os import listdir\n",
    "from os.path import isfile, join\n",
    "from scipy import misc\n",
    "import random\n",
    "\n",
    "import tensorflow as tf\n",
    "from tensorflow.python.ops.constant_op import constant\n",
    "from tensorflow.models.rnn import rnn, rnn_cell\n",
    "import numpy as np"
   ]
  },
  {
   "cell_type": "code",
   "execution_count": 2,
   "metadata": {
    "collapsed": true
   },
   "outputs": [],
   "source": [
    "import random as rand\n",
    "\n",
    "def extract_images_labels(folder_name):\n",
    "    images = [f for f in listdir(folder_name) if isfile(join(folder_name, f)) and f.endswith('png')]\n",
    "    rand.shuffle(images)\n",
    "    lbs = np.zeros((len(images), 10))\n",
    "    counter = 0\n",
    "    for image in images:\n",
    "        vals = np.zeros(10)\n",
    "        vals[int(image[0])] = 1\n",
    "        lbs[counter,:] = vals\n",
    "        counter += 1\n",
    "    return images, lbs;"
   ]
  },
  {
   "cell_type": "code",
   "execution_count": 3,
   "metadata": {
    "collapsed": true
   },
   "outputs": [],
   "source": [
    "folder_name = \"/home/agah/TF/CSE253Project/spoken_numbers\""
   ]
  },
  {
   "cell_type": "code",
   "execution_count": 4,
   "metadata": {
    "collapsed": false
   },
   "outputs": [
    {
     "name": "stdout",
     "output_type": "stream",
     "text": [
      "3797\n",
      "2_Samantha_120.wav.png\n",
      "[ 0.  0.  1.  0.  0.  0.  0.  0.  0.  0.]\n",
      "Total # of images 4684\n"
     ]
    }
   ],
   "source": [
    "img_paths, img_labels = extract_images_labels(folder_name);\n",
    "\n",
    "assert len(img_paths) == len(img_labels)\n",
    "index = random.randint(0,len(img_paths)-1)\n",
    "print index\n",
    "print img_paths[index]\n",
    "print img_labels[index]\n",
    "\n",
    "total_number_of_images = len(img_paths);\n",
    "print \"Total # of images\", total_number_of_images"
   ]
  },
  {
   "cell_type": "code",
   "execution_count": 5,
   "metadata": {
    "collapsed": false
   },
   "outputs": [],
   "source": [
    "class DataSet(object):\n",
    "    def __init__(self, images, labels):\n",
    "        assert len(images) == len(labels), (\n",
    "          \"images.shape: %s labels.shape: %s\" % (len(images), len(labels)))\n",
    "        self._num_examples = len(images)\n",
    "\n",
    "        self._images = np.asarray(images)\n",
    "        self._labels = np.asarray(labels)\n",
    "        self._epochs_completed = 0\n",
    "        self._index_in_epoch = 0\n",
    "\n",
    "    @property\n",
    "    def images(self):\n",
    "        return self._images\n",
    "    \n",
    "    @property\n",
    "    def labels(self):\n",
    "        return self._labels\n",
    "\n",
    "    @property\n",
    "    def num_examples(self):\n",
    "        return self._num_examples\n",
    "\n",
    "    @property\n",
    "    def epochs_completed(self):\n",
    "        return self._epochs_completed\n",
    "\n",
    "    def next_batch(self, batch_size, fake_data=False):\n",
    "        start = self._index_in_epoch\n",
    "        self._index_in_epoch += batch_size\n",
    "        if self._index_in_epoch > self._num_examples:\n",
    "            # Finished epoch\n",
    "            self._epochs_completed += 1\n",
    "            # Shuffle the data\n",
    "            perm = np.arange(self._num_examples)\n",
    "            np.random.shuffle(perm)\n",
    "            self._images = self._images[perm]\n",
    "            self._labels = self._labels[perm]\n",
    "            # Start next epoch\n",
    "            start = 0\n",
    "            self._index_in_epoch = batch_size\n",
    "            assert batch_size <= self._num_examples\n",
    "        end = self._index_in_epoch\n",
    "        return self._images[start:end], self._labels[start:end]"
   ]
  },
  {
   "cell_type": "code",
   "execution_count": 6,
   "metadata": {
    "collapsed": false
   },
   "outputs": [],
   "source": [
    "tr_size = int(0.95 * total_number_of_images)\n",
    "te_size = total_number_of_images - tr_size"
   ]
  },
  {
   "cell_type": "code",
   "execution_count": 7,
   "metadata": {
    "collapsed": true
   },
   "outputs": [],
   "source": [
    "def read_data_sets(train_dir):\n",
    "    class DataSets(object):\n",
    "        pass\n",
    "    \n",
    "    data_sets = DataSets()\n",
    "    images, labels = extract_images_labels(train_dir)\n",
    "\n",
    "    train_images = images[:tr_size]\n",
    "    train_labels = labels[:tr_size]\n",
    "    \n",
    "    test_images = images[tr_size:]\n",
    "    test_labels = labels[tr_size:]\n",
    "\n",
    "    print len(train_images), len(train_labels)\n",
    "    print len(test_images), len(test_labels)\n",
    "\n",
    "    data_sets.train = DataSet(train_images, train_labels)\n",
    "    data_sets.test = DataSet(test_images, test_labels)\n",
    "    \n",
    "    return data_sets"
   ]
  },
  {
   "cell_type": "code",
   "execution_count": 8,
   "metadata": {
    "collapsed": false
   },
   "outputs": [
    {
     "name": "stdout",
     "output_type": "stream",
     "text": [
      "4449 4449\n",
      "235 235\n",
      "data returned\n"
     ]
    }
   ],
   "source": [
    "data = read_data_sets(folder_name)\n",
    "\n",
    "print(\"data returned\")"
   ]
  },
  {
   "cell_type": "code",
   "execution_count": 9,
   "metadata": {
    "collapsed": true
   },
   "outputs": [],
   "source": [
    "'''\n",
    "Every image row is a sequence of pixels, so 512 sequences of 512 steps for every input\n",
    "'''\n",
    "\n",
    "learning_rate = 0.001\n",
    "training_iters = 100 * 1280\n",
    "batch_size = 128\n",
    "display_step = 10"
   ]
  },
  {
   "cell_type": "code",
   "execution_count": 10,
   "metadata": {
    "collapsed": true
   },
   "outputs": [],
   "source": [
    "# Network Parameters\n",
    "n_input = 512 # 512*512 images\n",
    "n_steps = 512 # timesteps\n",
    "n_hidden = 128 # hidden layer num of features\n",
    "n_classes = 10 # Total classes (0-9 digits)"
   ]
  },
  {
   "cell_type": "code",
   "execution_count": 11,
   "metadata": {
    "collapsed": true
   },
   "outputs": [],
   "source": [
    "# tf Graph input\n",
    "x = tf.placeholder(\"float\", [None, n_steps, n_input])\n",
    "\n",
    "# Tensorflow LSTM cell requires 2x n_hidden length (state & cell)\n",
    "istate_fw = tf.placeholder(\"float\", [None, 2*n_hidden])\n",
    "istate_bw = tf.placeholder(\"float\", [None, 2*n_hidden])\n",
    "y = tf.placeholder(\"float\", [None, n_classes])"
   ]
  },
  {
   "cell_type": "code",
   "execution_count": 12,
   "metadata": {
    "collapsed": true
   },
   "outputs": [],
   "source": [
    "# Define weights\n",
    "weights = {\n",
    "    # Hidden layer weights => 2*n_hidden because of foward + backward cells\n",
    "    'hidden': tf.Variable(tf.random_normal([n_input, 2*n_hidden])),\n",
    "    'out': tf.Variable(tf.random_normal([2*n_hidden, n_classes]))\n",
    "}\n",
    "biases = {\n",
    "    'hidden': tf.Variable(tf.random_normal([2*n_hidden])),\n",
    "    'out': tf.Variable(tf.random_normal([n_classes]))\n",
    "}"
   ]
  },
  {
   "cell_type": "code",
   "execution_count": 13,
   "metadata": {
    "collapsed": true
   },
   "outputs": [],
   "source": [
    "def BiRNN(_X, _istate_fw, _istate_bw, _weights, _biases, _batch_size, _seq_len):\n",
    "\n",
    "    # BiRNN requires to supply sequence_length as [batch_size, int64]\n",
    "    # Note: Tensorflow 0.6.0 requires BiRNN sequence_length parameter to be set\n",
    "    # For a better implementation with latest version of tensorflow, check below\n",
    "    _seq_len = tf.fill([_batch_size], constant(_seq_len, dtype=tf.int64))\n",
    "\n",
    "    print(\"before transpose\")\n",
    "    # input shape: (batch_size, n_steps, n_input)\n",
    "    _X = tf.transpose(_X, [1, 0, 2])  # permute n_steps and batch_size\n",
    "    # Reshape to prepare input to hidden activation\n",
    "    _X = tf.reshape(_X, [-1, n_input]) # (n_steps*batch_size, n_input)\n",
    "    # Linear activation\n",
    "    _X = tf.matmul(_X, _weights['hidden']) + _biases['hidden']\n",
    "\n",
    "    print(\"Done matmul\")\n",
    "    # Define lstm cells with tensorflow\n",
    "    # Forward direction cell\n",
    "    lstm_fw_cell = rnn_cell.BasicLSTMCell(n_hidden, forget_bias=1.0)\n",
    "    # Backward direction cell\n",
    "    lstm_bw_cell = rnn_cell.BasicLSTMCell(n_hidden, forget_bias=1.0)\n",
    "    # Split data because rnn cell needs a list of inputs for the RNN inner loop\n",
    "    _X = tf.split(0, n_steps, _X) # n_steps * (batch_size, n_hidden)\n",
    "\n",
    "    print(\"before outputs\")\n",
    "\n",
    "    # Get lstm cell output\n",
    "    outputs = rnn.bidirectional_rnn(lstm_fw_cell, lstm_bw_cell, _X,\n",
    "                                            initial_state_fw=_istate_fw,\n",
    "                                            initial_state_bw=_istate_bw,\n",
    "                                            sequence_length=_seq_len)\n",
    "    print(\"before return\");\n",
    "    # Linear activation\n",
    "    # Get inner loop last output\n",
    "    return tf.matmul(outputs[-1], _weights['out']) + _biases['out']"
   ]
  },
  {
   "cell_type": "code",
   "execution_count": 14,
   "metadata": {
    "collapsed": false
   },
   "outputs": [
    {
     "name": "stdout",
     "output_type": "stream",
     "text": [
      "Calling BiRNN\n",
      "before transpose\n",
      "Done matmul\n",
      "before outputs\n",
      "before return\n",
      "Calling BiRNN Done\n"
     ]
    }
   ],
   "source": [
    "print(\"Calling BiRNN\")\n",
    "pred = BiRNN(x, istate_fw, istate_bw, weights, biases, batch_size, n_steps)\n",
    "print(\"Calling BiRNN Done\")"
   ]
  },
  {
   "cell_type": "code",
   "execution_count": 15,
   "metadata": {
    "collapsed": false
   },
   "outputs": [],
   "source": [
    "# Define loss and optimizer\n",
    "cost = tf.reduce_mean(tf.nn.softmax_cross_entropy_with_logits(pred, y)) # Softmax loss\n",
    "optimizer = tf.train.AdamOptimizer(learning_rate=learning_rate).minimize(cost) # Adam Optimizer"
   ]
  },
  {
   "cell_type": "code",
   "execution_count": 16,
   "metadata": {
    "collapsed": true
   },
   "outputs": [],
   "source": [
    "# Evaluate model\n",
    "correct_pred = tf.equal(tf.argmax(pred,1), tf.argmax(y,1))\n",
    "accuracy = tf.reduce_mean(tf.cast(correct_pred, tf.float32))"
   ]
  },
  {
   "cell_type": "code",
   "execution_count": 17,
   "metadata": {
    "collapsed": true
   },
   "outputs": [],
   "source": [
    "# Initializing the variables\n",
    "init = tf.initialize_all_variables()"
   ]
  },
  {
   "cell_type": "code",
   "execution_count": 18,
   "metadata": {
    "collapsed": true
   },
   "outputs": [],
   "source": [
    "def get_images(image_paths):\n",
    "    rets = np.zeros((len(image_paths), 512, 512))\n",
    "    counter = 0\n",
    "    for image in image_paths:\n",
    "        img_data = misc.imread(join(folder_name, image))\n",
    "        rets[counter][:] = img_data\n",
    "        counter += 1\n",
    "\n",
    "    images = rets.reshape(rets.shape[0], rets.shape[1] * rets.shape[2])\n",
    "    \n",
    "    # Convert from [0, 255] -> [0.0, 1.0].\n",
    "    images = images.astype(np.float32)\n",
    "    images = np.multiply(images, 1.0 / 255.0)\n",
    "    \n",
    "    return images"
   ]
  },
  {
   "cell_type": "code",
   "execution_count": 19,
   "metadata": {
    "collapsed": false
   },
   "outputs": [
    {
     "name": "stdout",
     "output_type": "stream",
     "text": [
      "Launching the graph\n",
      "Iter 1280, Minibatch Loss= 3.299364, Training Accuracy= 0.23438\n",
      "Iter 2560, Minibatch Loss= 2.495505, Training Accuracy= 0.32812\n",
      "Iter 3840, Minibatch Loss= 2.310158, Training Accuracy= 0.35156\n",
      "Iter 5120, Minibatch Loss= 1.853615, Training Accuracy= 0.43750\n",
      "Iter 6400, Minibatch Loss= 1.596397, Training Accuracy= 0.48438\n",
      "Iter 7680, Minibatch Loss= 1.722748, Training Accuracy= 0.47656\n",
      "Iter 8960, Minibatch Loss= 1.579008, Training Accuracy= 0.45312\n",
      "Iter 10240, Minibatch Loss= 1.313428, Training Accuracy= 0.56250\n",
      "Iter 11520, Minibatch Loss= 1.441493, Training Accuracy= 0.48438\n",
      "Iter 12800, Minibatch Loss= 1.558009, Training Accuracy= 0.48438\n",
      "Iter 14080, Minibatch Loss= 1.495282, Training Accuracy= 0.50000\n",
      "Iter 15360, Minibatch Loss= 1.310763, Training Accuracy= 0.55469\n",
      "Iter 16640, Minibatch Loss= 1.475117, Training Accuracy= 0.47656\n",
      "Iter 17920, Minibatch Loss= 0.902650, Training Accuracy= 0.68750\n",
      "Iter 19200, Minibatch Loss= 1.008525, Training Accuracy= 0.65625\n",
      "Iter 20480, Minibatch Loss= 0.829888, Training Accuracy= 0.67188\n",
      "Iter 21760, Minibatch Loss= 1.180042, Training Accuracy= 0.60156\n",
      "Iter 23040, Minibatch Loss= 0.951319, Training Accuracy= 0.67969\n",
      "Iter 24320, Minibatch Loss= 0.992415, Training Accuracy= 0.65625\n",
      "Iter 25600, Minibatch Loss= 0.853148, Training Accuracy= 0.67969\n",
      "Iter 26880, Minibatch Loss= 0.823919, Training Accuracy= 0.69531\n",
      "Iter 28160, Minibatch Loss= 0.853203, Training Accuracy= 0.70312\n",
      "Iter 29440, Minibatch Loss= 0.787929, Training Accuracy= 0.77344\n",
      "Iter 30720, Minibatch Loss= 0.762531, Training Accuracy= 0.75000\n",
      "Iter 32000, Minibatch Loss= 0.790626, Training Accuracy= 0.76562\n",
      "Iter 33280, Minibatch Loss= 0.679576, Training Accuracy= 0.81250\n",
      "Iter 34560, Minibatch Loss= 0.729797, Training Accuracy= 0.76562\n",
      "Iter 35840, Minibatch Loss= 0.708173, Training Accuracy= 0.76562\n",
      "Iter 37120, Minibatch Loss= 0.576007, Training Accuracy= 0.81250\n",
      "Iter 38400, Minibatch Loss= 0.612814, Training Accuracy= 0.82812\n",
      "Iter 39680, Minibatch Loss= 0.503435, Training Accuracy= 0.88281\n",
      "Iter 40960, Minibatch Loss= 0.615023, Training Accuracy= 0.78906\n",
      "Iter 42240, Minibatch Loss= 0.540389, Training Accuracy= 0.82031\n",
      "Iter 43520, Minibatch Loss= 0.603402, Training Accuracy= 0.84375\n",
      "Iter 44800, Minibatch Loss= 0.459664, Training Accuracy= 0.84375\n",
      "Iter 46080, Minibatch Loss= 0.546463, Training Accuracy= 0.81250\n",
      "Iter 47360, Minibatch Loss= 0.544910, Training Accuracy= 0.86719\n",
      "Iter 48640, Minibatch Loss= 0.414121, Training Accuracy= 0.88281\n",
      "Iter 49920, Minibatch Loss= 0.473046, Training Accuracy= 0.87500\n",
      "Iter 51200, Minibatch Loss= 0.469239, Training Accuracy= 0.84375\n",
      "Iter 52480, Minibatch Loss= 0.344442, Training Accuracy= 0.92969\n",
      "Iter 53760, Minibatch Loss= 0.436977, Training Accuracy= 0.89844\n",
      "Iter 55040, Minibatch Loss= 0.425969, Training Accuracy= 0.88281\n",
      "Iter 56320, Minibatch Loss= 0.361142, Training Accuracy= 0.92969\n",
      "Iter 57600, Minibatch Loss= 0.358152, Training Accuracy= 0.91406\n",
      "Iter 58880, Minibatch Loss= 0.279116, Training Accuracy= 0.94531\n",
      "Iter 60160, Minibatch Loss= 0.310615, Training Accuracy= 0.94531\n",
      "Iter 61440, Minibatch Loss= 0.254843, Training Accuracy= 0.97656\n",
      "Iter 62720, Minibatch Loss= 0.328997, Training Accuracy= 0.88281\n",
      "Iter 64000, Minibatch Loss= 0.359508, Training Accuracy= 0.88281\n",
      "Iter 65280, Minibatch Loss= 0.262119, Training Accuracy= 0.96094\n",
      "Iter 66560, Minibatch Loss= 0.273195, Training Accuracy= 0.96094\n",
      "Iter 67840, Minibatch Loss= 0.281327, Training Accuracy= 0.92969\n",
      "Iter 69120, Minibatch Loss= 0.264008, Training Accuracy= 0.95312\n",
      "Iter 70400, Minibatch Loss= 0.204886, Training Accuracy= 0.93750\n",
      "Iter 71680, Minibatch Loss= 0.189242, Training Accuracy= 0.96875\n",
      "Iter 72960, Minibatch Loss= 0.258171, Training Accuracy= 0.95312\n",
      "Iter 74240, Minibatch Loss= 0.214378, Training Accuracy= 0.96875\n",
      "Iter 75520, Minibatch Loss= 0.253660, Training Accuracy= 0.94531\n",
      "Iter 76800, Minibatch Loss= 0.189900, Training Accuracy= 0.97656\n",
      "Iter 78080, Minibatch Loss= 0.181082, Training Accuracy= 0.99219\n",
      "Iter 79360, Minibatch Loss= 0.155669, Training Accuracy= 0.97656\n",
      "Iter 80640, Minibatch Loss= 0.119735, Training Accuracy= 1.00000\n",
      "Iter 81920, Minibatch Loss= 0.213252, Training Accuracy= 0.96875\n",
      "Iter 83200, Minibatch Loss= 0.131666, Training Accuracy= 0.98438\n",
      "Iter 84480, Minibatch Loss= 0.158103, Training Accuracy= 0.96875\n",
      "Iter 85760, Minibatch Loss= 0.133897, Training Accuracy= 0.97656\n",
      "Iter 87040, Minibatch Loss= 0.144482, Training Accuracy= 0.98438\n",
      "Iter 88320, Minibatch Loss= 0.152448, Training Accuracy= 0.97656\n",
      "Iter 89600, Minibatch Loss= 0.133980, Training Accuracy= 0.98438\n",
      "Iter 90880, Minibatch Loss= 0.102297, Training Accuracy= 1.00000\n",
      "Iter 92160, Minibatch Loss= 0.111445, Training Accuracy= 0.98438\n",
      "Iter 93440, Minibatch Loss= 0.121935, Training Accuracy= 0.99219\n",
      "Iter 94720, Minibatch Loss= 0.124682, Training Accuracy= 0.99219\n",
      "Iter 96000, Minibatch Loss= 0.116304, Training Accuracy= 0.99219\n",
      "Iter 97280, Minibatch Loss= 0.116634, Training Accuracy= 0.99219\n",
      "Iter 98560, Minibatch Loss= 0.139837, Training Accuracy= 0.97656\n",
      "Iter 99840, Minibatch Loss= 0.122735, Training Accuracy= 0.98438\n",
      "Iter 101120, Minibatch Loss= 0.099621, Training Accuracy= 0.98438\n",
      "Iter 102400, Minibatch Loss= 0.088449, Training Accuracy= 0.99219\n",
      "Iter 103680, Minibatch Loss= 0.087908, Training Accuracy= 0.99219\n",
      "Iter 104960, Minibatch Loss= 0.083485, Training Accuracy= 1.00000\n",
      "Iter 106240, Minibatch Loss= 0.086152, Training Accuracy= 1.00000\n",
      "Iter 107520, Minibatch Loss= 0.068257, Training Accuracy= 1.00000\n",
      "Iter 108800, Minibatch Loss= 0.078727, Training Accuracy= 1.00000\n",
      "Iter 110080, Minibatch Loss= 0.061885, Training Accuracy= 1.00000\n",
      "Iter 111360, Minibatch Loss= 0.079329, Training Accuracy= 0.99219\n",
      "Iter 112640, Minibatch Loss= 0.083472, Training Accuracy= 1.00000\n",
      "Iter 113920, Minibatch Loss= 0.054674, Training Accuracy= 1.00000\n",
      "Iter 115200, Minibatch Loss= 0.068010, Training Accuracy= 1.00000\n",
      "Iter 116480, Minibatch Loss= 0.068267, Training Accuracy= 1.00000\n",
      "Iter 117760, Minibatch Loss= 0.071531, Training Accuracy= 0.99219\n",
      "Iter 119040, Minibatch Loss= 0.052242, Training Accuracy= 1.00000\n",
      "Iter 120320, Minibatch Loss= 0.080342, Training Accuracy= 0.99219\n",
      "Iter 121600, Minibatch Loss= 0.065873, Training Accuracy= 0.99219\n",
      "Iter 122880, Minibatch Loss= 0.067058, Training Accuracy= 0.99219\n",
      "Iter 124160, Minibatch Loss= 0.051017, Training Accuracy= 1.00000\n",
      "Iter 125440, Minibatch Loss= 0.053689, Training Accuracy= 1.00000\n",
      "Iter 126720, Minibatch Loss= 0.048329, Training Accuracy= 1.00000\n",
      "Optimization Finished!\n",
      "Testing Accuracy: 0.632812\n"
     ]
    }
   ],
   "source": [
    "print(\"Launching the graph\")\n",
    "# Launch the graph\n",
    "with tf.Session() as sess:\n",
    "    sess.run(init)\n",
    "    step = 1\n",
    "    # Keep training until reach max iterations\n",
    "    while step * batch_size < training_iters:\n",
    "        batch_xs_paths, batch_ys = data.train.next_batch(batch_size)\n",
    "        batch_xs = get_images(batch_xs_paths)\n",
    "        \n",
    "        # Reshape data to get 28 seq of 28 elements\n",
    "        batch_xs = batch_xs.reshape((batch_size, n_steps, n_input))\n",
    "        \n",
    "        # Fit training using batch data\n",
    "        sess.run(optimizer, feed_dict={x: batch_xs, y: batch_ys,\n",
    "                                       istate_fw: np.zeros((batch_size, 2*n_hidden)),\n",
    "                                       istate_bw: np.zeros((batch_size, 2*n_hidden))})\n",
    "        if step % display_step == 0:\n",
    "            # Calculate batch accuracy\n",
    "            acc = sess.run(accuracy, feed_dict={x: batch_xs, y: batch_ys,\n",
    "                                                istate_fw: np.zeros((batch_size, 2*n_hidden)),\n",
    "                                                istate_bw: np.zeros((batch_size, 2*n_hidden))})\n",
    "            # Calculate batch loss\n",
    "            loss = sess.run(cost, feed_dict={x: batch_xs, y: batch_ys,\n",
    "                                             istate_fw: np.zeros((batch_size, 2*n_hidden)),\n",
    "                                             istate_bw: np.zeros((batch_size, 2*n_hidden))})\n",
    "            print \"Iter \" + str(step*batch_size) + \", Minibatch Loss= \" + \"{:.6f}\".format(loss) + \\\n",
    "                  \", Training Accuracy= \" + \"{:.5f}\".format(acc)\n",
    "        step += 1\n",
    "        \n",
    "    print \"Optimization Finished!\"\n",
    "    \n",
    "#     Calculate test accuracy\n",
    "    test_len = 128\n",
    "    test_images = get_images(data.test.images[:test_len])\n",
    "    test_data = test_images.reshape((-1, n_steps, n_input))\n",
    "    test_label = data.test.labels[:test_len]\n",
    "    print \"Testing Accuracy:\", sess.run(accuracy, feed_dict={x: test_data, y: test_label,\n",
    "                                                             istate_fw: np.zeros((test_len, 2*n_hidden)),\n",
    "                                                             istate_bw: np.zeros((test_len, 2*n_hidden))})"
   ]
  },
  {
   "cell_type": "code",
   "execution_count": null,
   "metadata": {
    "collapsed": true
   },
   "outputs": [],
   "source": []
  }
 ],
 "metadata": {
  "kernelspec": {
   "display_name": "Python 2",
   "language": "python",
   "name": "python2"
  },
  "language_info": {
   "codemirror_mode": {
    "name": "ipython",
    "version": 2
   },
   "file_extension": ".py",
   "mimetype": "text/x-python",
   "name": "python",
   "nbconvert_exporter": "python",
   "pygments_lexer": "ipython2",
   "version": "2.7.6"
  }
 },
 "nbformat": 4,
 "nbformat_minor": 0
}
